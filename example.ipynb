{
 "cells": [
  {
   "cell_type": "code",
   "execution_count": 1,
   "id": "07852139",
   "metadata": {},
   "outputs": [
    {
     "name": "stdout",
     "output_type": "stream",
     "text": [
      "200\n"
     ]
    }
   ],
   "source": [
    "from datetime import datetime\n",
    "import requests\n",
    "\n",
    "response = requests.get('http://atlas.obs-hp.fr/sophie/sophie.cgi?n=sophies&a=htab&ob=ra,seq&c=o&o=51%20peg')\n",
    "\n",
    "print(response.status_code)"
   ]
  },
  {
   "cell_type": "code",
   "execution_count": 2,
   "id": "66d73adc",
   "metadata": {},
   "outputs": [
    {
     "name": "stdout",
     "output_type": "stream",
     "text": [
      "183\n",
      "dates:  183\n"
     ]
    }
   ],
   "source": [
    "import bs4\n",
    "\n",
    "# Obtener el html\n",
    "\n",
    "soup = bs4.BeautifulSoup(response.text, 'html.parser')\n",
    "\n",
    "xpath_title = '//table[@class=\"datatable\"]/tbody/tr/td[7]/text()'\n",
    "\n",
    "query = soup.select('table[class=\"datatable\"] tbody tr')\n",
    "\n",
    "print(len(query))\n",
    "#print(query[1].select('td')[6])\n",
    "dates = []\n",
    "for i in range(0, len(query)):\n",
    "    #print(query[i].select('td')[6].text)\n",
    "    dates.append(query[i].select('td')[6].text)\n",
    "print('dates: ', len(dates))"
   ]
  },
  {
   "cell_type": "code",
   "execution_count": 3,
   "id": "456fe760",
   "metadata": {},
   "outputs": [],
   "source": [
    "import bs4\n",
    "\n",
    "# Obtener el html\n",
    "\n",
    "soup = bs4.BeautifulSoup(response.text, 'html.parser')\n",
    "\n",
    "xpath_title = '//table[@class=\"datatable\"]/thead/tr/th/a/text()'\n",
    "\n",
    "\n",
    "query = soup.select('table[class=\"datatable\"] thead th')\n"
   ]
  },
  {
   "cell_type": "markdown",
   "id": "d3c61043",
   "metadata": {},
   "source": [
    "# Head"
   ]
  },
  {
   "cell_type": "code",
   "execution_count": 4,
   "id": "85c5c157",
   "metadata": {},
   "outputs": [
    {
     "data": {
      "text/plain": [
       "(['objname',\n",
       "  'RA (J2000) Dec',\n",
       "  'S',\n",
       "  'E',\n",
       "  'seq',\n",
       "  'slen',\n",
       "  'date',\n",
       "  'mode',\n",
       "  'fiber_b',\n",
       "  'exptime',\n",
       "  'sn26',\n",
       "  'view_spec',\n",
       "  'view_head',\n",
       "  'get_spec',\n",
       "  'get_e2ds',\n",
       "  'customize',\n",
       "  'search_ccf'],\n",
       " {'date': 6, 'fiber_b': 8, 'sn26': 10, 'view_head': 12, 'search_ccf': 16})"
      ]
     },
     "execution_count": 4,
     "metadata": {},
     "output_type": "execute_result"
    }
   ],
   "source": [
    "#query = soup.select('table[class=\"datatable\"] thead tr th a')\n",
    "#header = [querys.text for querys in query]\n",
    "\n",
    "\n",
    "def _get_headers():\n",
    "    row_header = soup.select('table[class=\"datatable\"] thead tr th a')\n",
    "    # table_body's header\n",
    "    headers = [header.text for header in row_header]\n",
    "\n",
    "    # List of data I want to get\n",
    "    data_list = ['date', 'fiber_b', 'sn26', 'view_head', 'search_ccf']  \n",
    "    position = []\n",
    "    for i in range(0, len(headers)):\n",
    "        for data in data_list:\n",
    "            if headers[i] == data:\n",
    "                position.append(i)\n",
    "\n",
    "    columns = {}\n",
    "    for i in range(0, len(data_list)):\n",
    "        columns[data_list[i]] = position[i]\n",
    "    return headers, columns\n",
    "_get_headers()"
   ]
  },
  {
   "cell_type": "code",
   "execution_count": 5,
   "id": "8f46aa14",
   "metadata": {},
   "outputs": [
    {
     "name": "stdout",
     "output_type": "stream",
     "text": [
      "17\n"
     ]
    },
    {
     "data": {
      "text/plain": [
       "{'date': 6, 'fiber_b': 8, 'sn26': 10, 'view_spec': 11, 'search_ccf': 16}"
      ]
     },
     "execution_count": 5,
     "metadata": {},
     "output_type": "execute_result"
    }
   ],
   "source": [
    "\n",
    "query = soup.select('table[class=\"datatable\"] thead th')\n",
    "print(len(query))\n",
    "\n",
    "header = []\n",
    "for i in range(0,len(query)):\n",
    "    header.append(query[i].text)\n",
    "\n",
    "lista = ['date', 'fiber_b', 'sn26', 'view_spec', 'search_ccf']    \n",
    "posicion = []\n",
    "for i in range(0,len(header)):\n",
    "    for j in range(0,len(lista)):\n",
    "        if header[i] == lista[j]:\n",
    "            posicion.append(i)\n",
    "\n",
    "diccionario ={}\n",
    "for i in range(0, len(lista)):\n",
    "    diccionario[lista[i]]=posicion[i]\n",
    "diccionario"
   ]
  },
  {
   "cell_type": "markdown",
   "id": "116c0dbc",
   "metadata": {},
   "source": [
    "# Body"
   ]
  },
  {
   "cell_type": "code",
   "execution_count": 6,
   "id": "f77c9464",
   "metadata": {},
   "outputs": [
    {
     "name": "stdout",
     "output_type": "stream",
     "text": [
      "<a href=\"sophie.cgi?n=sophiecc&amp;a=hexp&amp;fql=[seq =825680]\">search_CCF</a>\n"
     ]
    }
   ],
   "source": [
    "query = soup.select('table[class=\"datatable\"] tbody tr')\n",
    "\n",
    "\n",
    "print(query[3].select('td')[16].select('a')[0])\n",
    "#print(query[0])"
   ]
  },
  {
   "cell_type": "code",
   "execution_count": 7,
   "id": "374ba586",
   "metadata": {},
   "outputs": [],
   "source": [
    "#Codigo de ejemplo platzi\n",
    "def article_links(self):\n",
    "    link_list = []\n",
    "    for link in self._select(self._queries['homepage_article_links']):\n",
    "        if link and link.has_attr('href'):\n",
    "            link_list.append(link)\n",
    "\n",
    "    return set(link['href'] for link in link_list)"
   ]
  },
  {
   "cell_type": "code",
   "execution_count": 8,
   "id": "e84b1e68",
   "metadata": {},
   "outputs": [],
   "source": [
    "def column():    \n",
    "    query = soup.select('table[class=\"datatable\"] tbody tr')\n",
    "    \n",
    "    select_a = []\n",
    "    for i in range(0, len(query)):\n",
    "        data = query[i].select('td')[12].select('a')\n",
    "        \n",
    "        select_a.append(data)\n",
    "    \n",
    "    link_list = []\n",
    "    none_url = []\n",
    "    for index, link in enumerate(select_a):\n",
    "        if len(link) == 0:\n",
    "            none_url.append(index)\n",
    "        elif link[0] and link[0].has_attr('href'):\n",
    "            link_list.append(link)\n",
    "\n",
    "            \n",
    "    return list(link[0]['href'] for link in link_list), none_url\n"
   ]
  },
  {
   "cell_type": "code",
   "execution_count": 9,
   "id": "646dd53d",
   "metadata": {
    "scrolled": true
   },
   "outputs": [
    {
     "name": "stdout",
     "output_type": "stream",
     "text": [
      "['sophie.cgi?n=sophie&c=i&z=fd&o=sophie:[e2ds,671480]', 'sophie.cgi?n=sophie&c=i&z=fd&o=sophie:[e2ds,815760]', 'sophie.cgi?n=sophie&c=i&z=fd&o=sophie:[e2ds,815780]', 'sophie.cgi?n=sophie&c=i&z=fd&o=sophie:[e2ds,825680]', 'sophie.cgi?n=sophie&c=i&z=fd&o=sophie:[e2ds,847890]', 'sophie.cgi?n=sophie&c=i&z=fd&o=sophie:[e2ds,848960]', 'sophie.cgi?n=sophie&c=i&z=fd&o=sophie:[e2ds,1014070]', 'sophie.cgi?n=sophie&c=i&z=fd&o=sophie:[e2ds,1203340]', 'sophie.cgi?n=sophie&c=i&z=fd&o=sophie:[e2ds,1217920]', 'sophie.cgi?n=sophie&c=i&z=fd&o=sophie:[e2ds,1225370]', 'sophie.cgi?n=sophie&c=i&z=fd&o=sophie:[e2ds,1244250]', 'sophie.cgi?n=sophie&c=i&z=fd&o=sophie:[e2ds,133040]', 'sophie.cgi?n=sophie&c=i&z=fd&o=sophie:[e2ds,133820]', 'sophie.cgi?n=sophie&c=i&z=fd&o=sophie:[e2ds,137810]', 'sophie.cgi?n=sophie&c=i&z=fd&o=sophie:[e2ds,139920]', 'sophie.cgi?n=sophie&c=i&z=fd&o=sophie:[e2ds,145770]', 'sophie.cgi?n=sophie&c=i&z=fd&o=sophie:[e2ds,146670]', 'sophie.cgi?n=sophie&c=i&z=fd&o=sophie:[e2ds,147590]', 'sophie.cgi?n=sophie&c=i&z=fd&o=sophie:[e2ds,148320]', 'sophie.cgi?n=sophie&c=i&z=fd&o=sophie:[e2ds,156380]', 'sophie.cgi?n=sophie&c=i&z=fd&o=sophie:[e2ds,156480]', 'sophie.cgi?n=sophie&c=i&z=fd&o=sophie:[e2ds,157680]', 'sophie.cgi?n=sophie&c=i&z=fd&o=sophie:[e2ds,159310]', 'sophie.cgi?n=sophie&c=i&z=fd&o=sophie:[e2ds,160760]', 'sophie.cgi?n=sophie&c=i&z=fd&o=sophie:[e2ds,161800]', 'sophie.cgi?n=sophie&c=i&z=fd&o=sophie:[e2ds,163770]', 'sophie.cgi?n=sophie&c=i&z=fd&o=sophie:[e2ds,418730]', 'sophie.cgi?n=sophie&c=i&z=fd&o=sophie:[e2ds,419030]', 'sophie.cgi?n=sophie&c=i&z=fd&o=sophie:[e2ds,419230]', 'sophie.cgi?n=sophie&c=i&z=fd&o=sophie:[e2ds,419580]', 'sophie.cgi?n=sophie&c=i&z=fd&o=sophie:[e2ds,419590]', 'sophie.cgi?n=sophie&c=i&z=fd&o=sophie:[e2ds,420130]', 'sophie.cgi?n=sophie&c=i&z=fd&o=sophie:[e2ds,420370]', 'sophie.cgi?n=sophie&c=i&z=fd&o=sophie:[e2ds,420610]', 'sophie.cgi?n=sophie&c=i&z=fd&o=sophie:[e2ds,420850]', 'sophie.cgi?n=sophie&c=i&z=fd&o=sophie:[e2ds,421570]', 'sophie.cgi?n=sophie&c=i&z=fd&o=sophie:[e2ds,421900]', 'sophie.cgi?n=sophie&c=i&z=fd&o=sophie:[e2ds,421910]', 'sophie.cgi?n=sophie&c=i&z=fd&o=sophie:[e2ds,422150]', 'sophie.cgi?n=sophie&c=i&z=fd&o=sophie:[e2ds,422390]', 'sophie.cgi?n=sophie&c=i&z=fd&o=sophie:[e2ds,422490]', 'sophie.cgi?n=sophie&c=i&z=fd&o=sophie:[e2ds,422590]', 'sophie.cgi?n=sophie&c=i&z=fd&o=sophie:[e2ds,423310]', 'sophie.cgi?n=sophie&c=i&z=fd&o=sophie:[e2ds,423500]', 'sophie.cgi?n=sophie&c=i&z=fd&o=sophie:[e2ds,423510]', 'sophie.cgi?n=sophie&c=i&z=fd&o=sophie:[e2ds,423750]', 'sophie.cgi?n=sophie&c=i&z=fd&o=sophie:[e2ds,423990]', 'sophie.cgi?n=sophie&c=i&z=fd&o=sophie:[e2ds,424230]', 'sophie.cgi?n=sophie&c=i&z=fd&o=sophie:[e2ds,424370]', 'sophie.cgi?n=sophie&c=i&z=fd&o=sophie:[e2ds,425090]', 'sophie.cgi?n=sophie&c=i&z=fd&o=sophie:[e2ds,425240]', 'sophie.cgi?n=sophie&c=i&z=fd&o=sophie:[e2ds,425250]', 'sophie.cgi?n=sophie&c=i&z=fd&o=sophie:[e2ds,425490]', 'sophie.cgi?n=sophie&c=i&z=fd&o=sophie:[e2ds,425730]', 'sophie.cgi?n=sophie&c=i&z=fd&o=sophie:[e2ds,425970]', 'sophie.cgi?n=sophie&c=i&z=fd&o=sophie:[e2ds,426070]', 'sophie.cgi?n=sophie&c=i&z=fd&o=sophie:[e2ds,426790]', 'sophie.cgi?n=sophie&c=i&z=fd&o=sophie:[e2ds,427000]', 'sophie.cgi?n=sophie&c=i&z=fd&o=sophie:[e2ds,427010]', 'sophie.cgi?n=sophie&c=i&z=fd&o=sophie:[e2ds,427250]', 'sophie.cgi?n=sophie&c=i&z=fd&o=sophie:[e2ds,427490]', 'sophie.cgi?n=sophie&c=i&z=fd&o=sophie:[e2ds,427610]', 'sophie.cgi?n=sophie&c=i&z=fd&o=sophie:[e2ds,427850]', 'sophie.cgi?n=sophie&c=i&z=fd&o=sophie:[e2ds,428570]', 'sophie.cgi?n=sophie&c=i&z=fd&o=sophie:[e2ds,428890]', 'sophie.cgi?n=sophie&c=i&z=fd&o=sophie:[e2ds,429020]', 'sophie.cgi?n=sophie&c=i&z=fd&o=sophie:[e2ds,429030]', 'sophie.cgi?n=sophie&c=i&z=fd&o=sophie:[e2ds,429230]', 'sophie.cgi?n=sophie&c=i&z=fd&o=sophie:[e2ds,429240]', 'sophie.cgi?n=sophie&c=i&z=fd&o=sophie:[e2ds,429360]', 'sophie.cgi?n=sophie&c=i&z=fd&o=sophie:[e2ds,429480]', 'sophie.cgi?n=sophie&c=i&z=fd&o=sophie:[e2ds,429600]', 'sophie.cgi?n=sophie&c=i&z=fd&o=sophie:[e2ds,429730]', 'sophie.cgi?n=sophie&c=i&z=fd&o=sophie:[e2ds,429970]', 'sophie.cgi?n=sophie&c=i&z=fd&o=sophie:[e2ds,430210]', 'sophie.cgi?n=sophie&c=i&z=fd&o=sophie:[e2ds,430520]', 'sophie.cgi?n=sophie&c=i&z=fd&o=sophie:[e2ds,430530]', 'sophie.cgi?n=sophie&c=i&z=fd&o=sophie:[e2ds,430770]', 'sophie.cgi?n=sophie&c=i&z=fd&o=sophie:[e2ds,430890]', 'sophie.cgi?n=sophie&c=i&z=fd&o=sophie:[e2ds,431010]', 'sophie.cgi?n=sophie&c=i&z=fd&o=sophie:[e2ds,431250]', 'sophie.cgi?n=sophie&c=i&z=fd&o=sophie:[e2ds,991080]', 'sophie.cgi?n=sophie&c=i&z=fd&o=sophie:[e2ds,991130]', 'sophie.cgi?n=sophie&c=i&z=fd&o=sophie:[e2ds,991260]', 'sophie.cgi?n=sophie&c=i&z=fd&o=sophie:[e2ds,991460]', 'sophie.cgi?n=sophie&c=i&z=fd&o=sophie:[e2ds,991660]', 'sophie.cgi?n=sophie&c=i&z=fd&o=sophie:[e2ds,991670]', 'sophie.cgi?n=sophie&c=i&z=fd&o=sophie:[e2ds,991870]', 'sophie.cgi?n=sophie&c=i&z=fd&o=sophie:[e2ds,992070]', 'sophie.cgi?n=sophie&c=i&z=fd&o=sophie:[e2ds,992270]', 'sophie.cgi?n=sophie&c=i&z=fd&o=sophie:[e2ds,992550]', 'sophie.cgi?n=sophie&c=i&z=fd&o=sophie:[e2ds,992560]', 'sophie.cgi?n=sophie&c=i&z=fd&o=sophie:[e2ds,992760]', 'sophie.cgi?n=sophie&c=i&z=fd&o=sophie:[e2ds,992960]', 'sophie.cgi?n=sophie&c=i&z=fd&o=sophie:[e2ds,993160]', 'sophie.cgi?n=sophie&c=i&z=fd&o=sophie:[e2ds,993360]', 'sophie.cgi?n=sophie&c=i&z=fd&o=sophie:[e2ds,993560]', 'sophie.cgi?n=sophie&c=i&z=fd&o=sophie:[e2ds,993760]', 'sophie.cgi?n=sophie&c=i&z=fd&o=sophie:[e2ds,994120]', 'sophie.cgi?n=sophie&c=i&z=fd&o=sophie:[e2ds,994130]', 'sophie.cgi?n=sophie&c=i&z=fd&o=sophie:[e2ds,994330]', 'sophie.cgi?n=sophie&c=i&z=fd&o=sophie:[e2ds,994530]', 'sophie.cgi?n=sophie&c=i&z=fd&o=sophie:[e2ds,994730]', 'sophie.cgi?n=sophie&c=i&z=fd&o=sophie:[e2ds,994930]', 'sophie.cgi?n=sophie&c=i&z=fd&o=sophie:[e2ds,995130]', 'sophie.cgi?n=sophie&c=i&z=fd&o=sophie:[e2ds,995330]', 'sophie.cgi?n=sophie&c=i&z=fd&o=sophie:[e2ds,995530]', 'sophie.cgi?n=sophie&c=i&z=fd&o=sophie:[e2ds,995870]', 'sophie.cgi?n=sophie&c=i&z=fd&o=sophie:[e2ds,995880]', 'sophie.cgi?n=sophie&c=i&z=fd&o=sophie:[e2ds,996080]', 'sophie.cgi?n=sophie&c=i&z=fd&o=sophie:[e2ds,996280]', 'sophie.cgi?n=sophie&c=i&z=fd&o=sophie:[e2ds,996480]', 'sophie.cgi?n=sophie&c=i&z=fd&o=sophie:[e2ds,996680]', 'sophie.cgi?n=sophie&c=i&z=fd&o=sophie:[e2ds,996980]', 'sophie.cgi?n=sophie&c=i&z=fd&o=sophie:[e2ds,997120]', 'sophie.cgi?n=sophie&c=i&z=fd&o=sophie:[e2ds,997130]', 'sophie.cgi?n=sophie&c=i&z=fd&o=sophie:[e2ds,997330]', 'sophie.cgi?n=sophie&c=i&z=fd&o=sophie:[e2ds,997530]', 'sophie.cgi?n=sophie&c=i&z=fd&o=sophie:[e2ds,997730]', 'sophie.cgi?n=sophie&c=i&z=fd&o=sophie:[e2ds,997930]', 'sophie.cgi?n=sophie&c=i&z=fd&o=sophie:[e2ds,998230]', 'sophie.cgi?n=sophie&c=i&z=fd&o=sophie:[e2ds,998430]', 'sophie.cgi?n=sophie&c=i&z=fd&o=sophie:[e2ds,998630]', 'sophie.cgi?n=sophie&c=i&z=fd&o=sophie:[e2ds,998770]', 'sophie.cgi?n=sophie&c=i&z=fd&o=sophie:[e2ds,998780]', 'sophie.cgi?n=sophie&c=i&z=fd&o=sophie:[e2ds,998980]', 'sophie.cgi?n=sophie&c=i&z=fd&o=sophie:[e2ds,999180]', 'sophie.cgi?n=sophie&c=i&z=fd&o=sophie:[e2ds,999380]', 'sophie.cgi?n=sophie&c=i&z=fd&o=sophie:[e2ds,999580]', 'sophie.cgi?n=sophie&c=i&z=fd&o=sophie:[e2ds,999780]', 'sophie.cgi?n=sophie&c=i&z=fd&o=sophie:[e2ds,999980]', 'sophie.cgi?n=sophie&c=i&z=fd&o=sophie:[e2ds,1000180]', 'sophie.cgi?n=sophie&c=i&z=fd&o=sophie:[e2ds,1000380]', 'sophie.cgi?n=sophie&c=i&z=fd&o=sophie:[e2ds,1000520]', 'sophie.cgi?n=sophie&c=i&z=fd&o=sophie:[e2ds,1000530]', 'sophie.cgi?n=sophie&c=i&z=fd&o=sophie:[e2ds,1000700]', 'sophie.cgi?n=sophie&c=i&z=fd&o=sophie:[e2ds,1000710]', 'sophie.cgi?n=sophie&c=i&z=fd&o=sophie:[e2ds,1000910]', 'sophie.cgi?n=sophie&c=i&z=fd&o=sophie:[e2ds,1001110]', 'sophie.cgi?n=sophie&c=i&z=fd&o=sophie:[e2ds,1001310]', 'sophie.cgi?n=sophie&c=i&z=fd&o=sophie:[e2ds,1001510]', 'sophie.cgi?n=sophie&c=i&z=fd&o=sophie:[e2ds,1001670]', 'sophie.cgi?n=sophie&c=i&z=fd&o=sophie:[e2ds,1001680]', 'sophie.cgi?n=sophie&c=i&z=fd&o=sophie:[e2ds,1001880]', 'sophie.cgi?n=sophie&c=i&z=fd&o=sophie:[e2ds,1002080]', 'sophie.cgi?n=sophie&c=i&z=fd&o=sophie:[e2ds,1002280]', 'sophie.cgi?n=sophie&c=i&z=fd&o=sophie:[e2ds,1002480]', 'sophie.cgi?n=sophie&c=i&z=fd&o=sophie:[e2ds,1002680]', 'sophie.cgi?n=sophie&c=i&z=fd&o=sophie:[e2ds,1002880]', 'sophie.cgi?n=sophie&c=i&z=fd&o=sophie:[e2ds,1003080]', 'sophie.cgi?n=sophie&c=i&z=fd&o=sophie:[e2ds,1003280]', 'sophie.cgi?n=sophie&c=i&z=fd&o=sophie:[e2ds,1003430]', 'sophie.cgi?n=sophie&c=i&z=fd&o=sophie:[e2ds,1003440]', 'sophie.cgi?n=sophie&c=i&z=fd&o=sophie:[e2ds,1003640]', 'sophie.cgi?n=sophie&c=i&z=fd&o=sophie:[e2ds,1003840]', 'sophie.cgi?n=sophie&c=i&z=fd&o=sophie:[e2ds,1004040]', 'sophie.cgi?n=sophie&c=i&z=fd&o=sophie:[e2ds,1004240]', 'sophie.cgi?n=sophie&c=i&z=fd&o=sophie:[e2ds,1004440]', 'sophie.cgi?n=sophie&c=i&z=fd&o=sophie:[e2ds,1004640]', 'sophie.cgi?n=sophie&c=i&z=fd&o=sophie:[e2ds,1004960]', 'sophie.cgi?n=sophie&c=i&z=fd&o=sophie:[e2ds,1004970]', 'sophie.cgi?n=sophie&c=i&z=fd&o=sophie:[e2ds,1005170]', 'sophie.cgi?n=sophie&c=i&z=fd&o=sophie:[e2ds,1005370]', 'sophie.cgi?n=sophie&c=i&z=fd&o=sophie:[e2ds,1005410]', 'sophie.cgi?n=sophie&c=i&z=fd&o=sophie:[e2ds,1005610]', 'sophie.cgi?n=sophie&c=i&z=fd&o=sophie:[e2ds,1005810]', 'sophie.cgi?n=sophie&c=i&z=fd&o=sophie:[e2ds,1006010]', 'sophie.cgi?n=sophie&c=i&z=fd&o=sophie:[e2ds,1006300]', 'sophie.cgi?n=sophie&c=i&z=fd&o=sophie:[e2ds,1006310]', 'sophie.cgi?n=sophie&c=i&z=fd&o=sophie:[e2ds,1006510]', 'sophie.cgi?n=sophie&c=i&z=fd&o=sophie:[e2ds,1006710]', 'sophie.cgi?n=sophie&c=i&z=fd&o=sophie:[e2ds,1006910]', 'sophie.cgi?n=sophie&c=i&z=fd&o=sophie:[e2ds,1007110]', 'sophie.cgi?n=sophie&c=i&z=fd&o=sophie:[e2ds,1007310]', 'sophie.cgi?n=sophie&c=i&z=fd&o=sophie:[e2ds,1007510]', 'sophie.cgi?n=sophie&c=i&z=fd&o=sophie:[e2ds,1007710]']\n",
      "[11, 12, 13, 14, 15, 16, 17]\n"
     ]
    }
   ],
   "source": [
    "a, none_url_list = column()\n",
    "print(a)\n",
    "print(none_url_list)"
   ]
  },
  {
   "cell_type": "markdown",
   "id": "84b8d044",
   "metadata": {},
   "source": [
    "# Borrar datos faltantes"
   ]
  },
  {
   "cell_type": "code",
   "execution_count": 10,
   "id": "ff0c1edc",
   "metadata": {},
   "outputs": [],
   "source": [
    "def _obtein_data(rows, column_name, none_url_list):\n",
    "\n",
    "    results = []\n",
    "    for i in range(0, len(rows)):\n",
    "        data = rows[i].select('td')[column_name].text\n",
    "        if len(data) !=0:\n",
    "            results.append(data)\n",
    "        elif len(data) == 0:\n",
    "            results.append('')\n",
    "    \n",
    "    results_clean = np.delete(results, none_url_list).tolist()\n",
    "    return results_clean"
   ]
  },
  {
   "cell_type": "code",
   "execution_count": 11,
   "id": "0ae95a44",
   "metadata": {},
   "outputs": [
    {
     "data": {
      "text/plain": [
       "['Jacinto', 'Jose', 'Ricky', 'Jose', 'Jose']"
      ]
     },
     "execution_count": 11,
     "metadata": {},
     "output_type": "execute_result"
    }
   ],
   "source": [
    "import numpy as np\n",
    "lista_nombres = ['Ricky', 'Alvaro', 'David', 'Jacinto', 'Jose', 'Ricky', 'Jose', 'Jose']\n",
    "borrar = [0,1,2]\n",
    "np.delete(lista_nombres, borrar).tolist()\n",
    "# Returns: ['l', '42', 'u']"
   ]
  },
  {
   "cell_type": "markdown",
   "id": "965b2ec8",
   "metadata": {},
   "source": [
    "# Corregir link"
   ]
  },
  {
   "cell_type": "code",
   "execution_count": 12,
   "id": "a3b822ba",
   "metadata": {
    "scrolled": true
   },
   "outputs": [
    {
     "name": "stdout",
     "output_type": "stream",
     "text": [
      "['sophie.cgi?n=sophie&c=i&z=fd&o=sophie:[e2ds,671480]', 'sophie.cgi?n=sophie&c=i&z=fd&o=sophie:[e2ds,815760]', 'sophie.cgi?n=sophie&c=i&z=fd&o=sophie:[e2ds,815780]', 'sophie.cgi?n=sophie&c=i&z=fd&o=sophie:[e2ds,825680]', 'sophie.cgi?n=sophie&c=i&z=fd&o=sophie:[e2ds,847890]', 'sophie.cgi?n=sophie&c=i&z=fd&o=sophie:[e2ds,848960]', 'sophie.cgi?n=sophie&c=i&z=fd&o=sophie:[e2ds,1014070]', 'sophie.cgi?n=sophie&c=i&z=fd&o=sophie:[e2ds,1203340]', 'sophie.cgi?n=sophie&c=i&z=fd&o=sophie:[e2ds,1217920]', 'sophie.cgi?n=sophie&c=i&z=fd&o=sophie:[e2ds,1225370]', 'sophie.cgi?n=sophie&c=i&z=fd&o=sophie:[e2ds,1244250]', 'sophie.cgi?n=sophie&c=i&z=fd&o=sophie:[e2ds,133040]', 'sophie.cgi?n=sophie&c=i&z=fd&o=sophie:[e2ds,133820]', 'sophie.cgi?n=sophie&c=i&z=fd&o=sophie:[e2ds,137810]', 'sophie.cgi?n=sophie&c=i&z=fd&o=sophie:[e2ds,139920]', 'sophie.cgi?n=sophie&c=i&z=fd&o=sophie:[e2ds,145770]', 'sophie.cgi?n=sophie&c=i&z=fd&o=sophie:[e2ds,146670]', 'sophie.cgi?n=sophie&c=i&z=fd&o=sophie:[e2ds,147590]', 'sophie.cgi?n=sophie&c=i&z=fd&o=sophie:[e2ds,148320]', 'sophie.cgi?n=sophie&c=i&z=fd&o=sophie:[e2ds,156380]', 'sophie.cgi?n=sophie&c=i&z=fd&o=sophie:[e2ds,156480]', 'sophie.cgi?n=sophie&c=i&z=fd&o=sophie:[e2ds,157680]', 'sophie.cgi?n=sophie&c=i&z=fd&o=sophie:[e2ds,159310]', 'sophie.cgi?n=sophie&c=i&z=fd&o=sophie:[e2ds,160760]', 'sophie.cgi?n=sophie&c=i&z=fd&o=sophie:[e2ds,161800]', 'sophie.cgi?n=sophie&c=i&z=fd&o=sophie:[e2ds,163770]', 'sophie.cgi?n=sophie&c=i&z=fd&o=sophie:[e2ds,418730]', 'sophie.cgi?n=sophie&c=i&z=fd&o=sophie:[e2ds,419030]', 'sophie.cgi?n=sophie&c=i&z=fd&o=sophie:[e2ds,419230]', 'sophie.cgi?n=sophie&c=i&z=fd&o=sophie:[e2ds,419580]', 'sophie.cgi?n=sophie&c=i&z=fd&o=sophie:[e2ds,419590]', 'sophie.cgi?n=sophie&c=i&z=fd&o=sophie:[e2ds,420130]', 'sophie.cgi?n=sophie&c=i&z=fd&o=sophie:[e2ds,420370]', 'sophie.cgi?n=sophie&c=i&z=fd&o=sophie:[e2ds,420610]', 'sophie.cgi?n=sophie&c=i&z=fd&o=sophie:[e2ds,420850]', 'sophie.cgi?n=sophie&c=i&z=fd&o=sophie:[e2ds,421570]', 'sophie.cgi?n=sophie&c=i&z=fd&o=sophie:[e2ds,421900]', 'sophie.cgi?n=sophie&c=i&z=fd&o=sophie:[e2ds,421910]', 'sophie.cgi?n=sophie&c=i&z=fd&o=sophie:[e2ds,422150]', 'sophie.cgi?n=sophie&c=i&z=fd&o=sophie:[e2ds,422390]', 'sophie.cgi?n=sophie&c=i&z=fd&o=sophie:[e2ds,422490]', 'sophie.cgi?n=sophie&c=i&z=fd&o=sophie:[e2ds,422590]', 'sophie.cgi?n=sophie&c=i&z=fd&o=sophie:[e2ds,423310]', 'sophie.cgi?n=sophie&c=i&z=fd&o=sophie:[e2ds,423500]', 'sophie.cgi?n=sophie&c=i&z=fd&o=sophie:[e2ds,423510]', 'sophie.cgi?n=sophie&c=i&z=fd&o=sophie:[e2ds,423750]', 'sophie.cgi?n=sophie&c=i&z=fd&o=sophie:[e2ds,423990]', 'sophie.cgi?n=sophie&c=i&z=fd&o=sophie:[e2ds,424230]', 'sophie.cgi?n=sophie&c=i&z=fd&o=sophie:[e2ds,424370]', 'sophie.cgi?n=sophie&c=i&z=fd&o=sophie:[e2ds,425090]', 'sophie.cgi?n=sophie&c=i&z=fd&o=sophie:[e2ds,425240]', 'sophie.cgi?n=sophie&c=i&z=fd&o=sophie:[e2ds,425250]', 'sophie.cgi?n=sophie&c=i&z=fd&o=sophie:[e2ds,425490]', 'sophie.cgi?n=sophie&c=i&z=fd&o=sophie:[e2ds,425730]', 'sophie.cgi?n=sophie&c=i&z=fd&o=sophie:[e2ds,425970]', 'sophie.cgi?n=sophie&c=i&z=fd&o=sophie:[e2ds,426070]', 'sophie.cgi?n=sophie&c=i&z=fd&o=sophie:[e2ds,426790]', 'sophie.cgi?n=sophie&c=i&z=fd&o=sophie:[e2ds,427000]', 'sophie.cgi?n=sophie&c=i&z=fd&o=sophie:[e2ds,427010]', 'sophie.cgi?n=sophie&c=i&z=fd&o=sophie:[e2ds,427250]', 'sophie.cgi?n=sophie&c=i&z=fd&o=sophie:[e2ds,427490]', 'sophie.cgi?n=sophie&c=i&z=fd&o=sophie:[e2ds,427610]', 'sophie.cgi?n=sophie&c=i&z=fd&o=sophie:[e2ds,427850]', 'sophie.cgi?n=sophie&c=i&z=fd&o=sophie:[e2ds,428570]', 'sophie.cgi?n=sophie&c=i&z=fd&o=sophie:[e2ds,428890]', 'sophie.cgi?n=sophie&c=i&z=fd&o=sophie:[e2ds,429020]', 'sophie.cgi?n=sophie&c=i&z=fd&o=sophie:[e2ds,429030]', 'sophie.cgi?n=sophie&c=i&z=fd&o=sophie:[e2ds,429230]', 'sophie.cgi?n=sophie&c=i&z=fd&o=sophie:[e2ds,429240]', 'sophie.cgi?n=sophie&c=i&z=fd&o=sophie:[e2ds,429360]', 'sophie.cgi?n=sophie&c=i&z=fd&o=sophie:[e2ds,429480]', 'sophie.cgi?n=sophie&c=i&z=fd&o=sophie:[e2ds,429600]', 'sophie.cgi?n=sophie&c=i&z=fd&o=sophie:[e2ds,429730]', 'sophie.cgi?n=sophie&c=i&z=fd&o=sophie:[e2ds,429970]', 'sophie.cgi?n=sophie&c=i&z=fd&o=sophie:[e2ds,430210]', 'sophie.cgi?n=sophie&c=i&z=fd&o=sophie:[e2ds,430520]', 'sophie.cgi?n=sophie&c=i&z=fd&o=sophie:[e2ds,430530]', 'sophie.cgi?n=sophie&c=i&z=fd&o=sophie:[e2ds,430770]', 'sophie.cgi?n=sophie&c=i&z=fd&o=sophie:[e2ds,430890]', 'sophie.cgi?n=sophie&c=i&z=fd&o=sophie:[e2ds,431010]', 'sophie.cgi?n=sophie&c=i&z=fd&o=sophie:[e2ds,431250]', 'sophie.cgi?n=sophie&c=i&z=fd&o=sophie:[e2ds,991080]', 'sophie.cgi?n=sophie&c=i&z=fd&o=sophie:[e2ds,991130]', 'sophie.cgi?n=sophie&c=i&z=fd&o=sophie:[e2ds,991260]', 'sophie.cgi?n=sophie&c=i&z=fd&o=sophie:[e2ds,991460]', 'sophie.cgi?n=sophie&c=i&z=fd&o=sophie:[e2ds,991660]', 'sophie.cgi?n=sophie&c=i&z=fd&o=sophie:[e2ds,991670]', 'sophie.cgi?n=sophie&c=i&z=fd&o=sophie:[e2ds,991870]', 'sophie.cgi?n=sophie&c=i&z=fd&o=sophie:[e2ds,992070]', 'sophie.cgi?n=sophie&c=i&z=fd&o=sophie:[e2ds,992270]', 'sophie.cgi?n=sophie&c=i&z=fd&o=sophie:[e2ds,992550]', 'sophie.cgi?n=sophie&c=i&z=fd&o=sophie:[e2ds,992560]', 'sophie.cgi?n=sophie&c=i&z=fd&o=sophie:[e2ds,992760]', 'sophie.cgi?n=sophie&c=i&z=fd&o=sophie:[e2ds,992960]', 'sophie.cgi?n=sophie&c=i&z=fd&o=sophie:[e2ds,993160]', 'sophie.cgi?n=sophie&c=i&z=fd&o=sophie:[e2ds,993360]', 'sophie.cgi?n=sophie&c=i&z=fd&o=sophie:[e2ds,993560]', 'sophie.cgi?n=sophie&c=i&z=fd&o=sophie:[e2ds,993760]', 'sophie.cgi?n=sophie&c=i&z=fd&o=sophie:[e2ds,994120]', 'sophie.cgi?n=sophie&c=i&z=fd&o=sophie:[e2ds,994130]', 'sophie.cgi?n=sophie&c=i&z=fd&o=sophie:[e2ds,994330]', 'sophie.cgi?n=sophie&c=i&z=fd&o=sophie:[e2ds,994530]', 'sophie.cgi?n=sophie&c=i&z=fd&o=sophie:[e2ds,994730]', 'sophie.cgi?n=sophie&c=i&z=fd&o=sophie:[e2ds,994930]', 'sophie.cgi?n=sophie&c=i&z=fd&o=sophie:[e2ds,995130]', 'sophie.cgi?n=sophie&c=i&z=fd&o=sophie:[e2ds,995330]', 'sophie.cgi?n=sophie&c=i&z=fd&o=sophie:[e2ds,995530]', 'sophie.cgi?n=sophie&c=i&z=fd&o=sophie:[e2ds,995870]', 'sophie.cgi?n=sophie&c=i&z=fd&o=sophie:[e2ds,995880]', 'sophie.cgi?n=sophie&c=i&z=fd&o=sophie:[e2ds,996080]', 'sophie.cgi?n=sophie&c=i&z=fd&o=sophie:[e2ds,996280]', 'sophie.cgi?n=sophie&c=i&z=fd&o=sophie:[e2ds,996480]', 'sophie.cgi?n=sophie&c=i&z=fd&o=sophie:[e2ds,996680]', 'sophie.cgi?n=sophie&c=i&z=fd&o=sophie:[e2ds,996980]', 'sophie.cgi?n=sophie&c=i&z=fd&o=sophie:[e2ds,997120]', 'sophie.cgi?n=sophie&c=i&z=fd&o=sophie:[e2ds,997130]', 'sophie.cgi?n=sophie&c=i&z=fd&o=sophie:[e2ds,997330]', 'sophie.cgi?n=sophie&c=i&z=fd&o=sophie:[e2ds,997530]', 'sophie.cgi?n=sophie&c=i&z=fd&o=sophie:[e2ds,997730]', 'sophie.cgi?n=sophie&c=i&z=fd&o=sophie:[e2ds,997930]', 'sophie.cgi?n=sophie&c=i&z=fd&o=sophie:[e2ds,998230]', 'sophie.cgi?n=sophie&c=i&z=fd&o=sophie:[e2ds,998430]', 'sophie.cgi?n=sophie&c=i&z=fd&o=sophie:[e2ds,998630]', 'sophie.cgi?n=sophie&c=i&z=fd&o=sophie:[e2ds,998770]', 'sophie.cgi?n=sophie&c=i&z=fd&o=sophie:[e2ds,998780]', 'sophie.cgi?n=sophie&c=i&z=fd&o=sophie:[e2ds,998980]', 'sophie.cgi?n=sophie&c=i&z=fd&o=sophie:[e2ds,999180]', 'sophie.cgi?n=sophie&c=i&z=fd&o=sophie:[e2ds,999380]', 'sophie.cgi?n=sophie&c=i&z=fd&o=sophie:[e2ds,999580]', 'sophie.cgi?n=sophie&c=i&z=fd&o=sophie:[e2ds,999780]', 'sophie.cgi?n=sophie&c=i&z=fd&o=sophie:[e2ds,999980]', 'sophie.cgi?n=sophie&c=i&z=fd&o=sophie:[e2ds,1000180]', 'sophie.cgi?n=sophie&c=i&z=fd&o=sophie:[e2ds,1000380]', 'sophie.cgi?n=sophie&c=i&z=fd&o=sophie:[e2ds,1000520]', 'sophie.cgi?n=sophie&c=i&z=fd&o=sophie:[e2ds,1000530]', 'sophie.cgi?n=sophie&c=i&z=fd&o=sophie:[e2ds,1000700]', 'sophie.cgi?n=sophie&c=i&z=fd&o=sophie:[e2ds,1000710]', 'sophie.cgi?n=sophie&c=i&z=fd&o=sophie:[e2ds,1000910]', 'sophie.cgi?n=sophie&c=i&z=fd&o=sophie:[e2ds,1001110]', 'sophie.cgi?n=sophie&c=i&z=fd&o=sophie:[e2ds,1001310]', 'sophie.cgi?n=sophie&c=i&z=fd&o=sophie:[e2ds,1001510]', 'sophie.cgi?n=sophie&c=i&z=fd&o=sophie:[e2ds,1001670]', 'sophie.cgi?n=sophie&c=i&z=fd&o=sophie:[e2ds,1001680]', 'sophie.cgi?n=sophie&c=i&z=fd&o=sophie:[e2ds,1001880]', 'sophie.cgi?n=sophie&c=i&z=fd&o=sophie:[e2ds,1002080]', 'sophie.cgi?n=sophie&c=i&z=fd&o=sophie:[e2ds,1002280]', 'sophie.cgi?n=sophie&c=i&z=fd&o=sophie:[e2ds,1002480]', 'sophie.cgi?n=sophie&c=i&z=fd&o=sophie:[e2ds,1002680]', 'sophie.cgi?n=sophie&c=i&z=fd&o=sophie:[e2ds,1002880]', 'sophie.cgi?n=sophie&c=i&z=fd&o=sophie:[e2ds,1003080]', 'sophie.cgi?n=sophie&c=i&z=fd&o=sophie:[e2ds,1003280]', 'sophie.cgi?n=sophie&c=i&z=fd&o=sophie:[e2ds,1003430]', 'sophie.cgi?n=sophie&c=i&z=fd&o=sophie:[e2ds,1003440]', 'sophie.cgi?n=sophie&c=i&z=fd&o=sophie:[e2ds,1003640]', 'sophie.cgi?n=sophie&c=i&z=fd&o=sophie:[e2ds,1003840]', 'sophie.cgi?n=sophie&c=i&z=fd&o=sophie:[e2ds,1004040]', 'sophie.cgi?n=sophie&c=i&z=fd&o=sophie:[e2ds,1004240]', 'sophie.cgi?n=sophie&c=i&z=fd&o=sophie:[e2ds,1004440]', 'sophie.cgi?n=sophie&c=i&z=fd&o=sophie:[e2ds,1004640]', 'sophie.cgi?n=sophie&c=i&z=fd&o=sophie:[e2ds,1004960]', 'sophie.cgi?n=sophie&c=i&z=fd&o=sophie:[e2ds,1004970]', 'sophie.cgi?n=sophie&c=i&z=fd&o=sophie:[e2ds,1005170]', 'sophie.cgi?n=sophie&c=i&z=fd&o=sophie:[e2ds,1005370]', 'sophie.cgi?n=sophie&c=i&z=fd&o=sophie:[e2ds,1005410]', 'sophie.cgi?n=sophie&c=i&z=fd&o=sophie:[e2ds,1005610]', 'sophie.cgi?n=sophie&c=i&z=fd&o=sophie:[e2ds,1005810]', 'sophie.cgi?n=sophie&c=i&z=fd&o=sophie:[e2ds,1006010]', 'sophie.cgi?n=sophie&c=i&z=fd&o=sophie:[e2ds,1006300]', 'sophie.cgi?n=sophie&c=i&z=fd&o=sophie:[e2ds,1006310]', 'sophie.cgi?n=sophie&c=i&z=fd&o=sophie:[e2ds,1006510]', 'sophie.cgi?n=sophie&c=i&z=fd&o=sophie:[e2ds,1006710]', 'sophie.cgi?n=sophie&c=i&z=fd&o=sophie:[e2ds,1006910]', 'sophie.cgi?n=sophie&c=i&z=fd&o=sophie:[e2ds,1007110]', 'sophie.cgi?n=sophie&c=i&z=fd&o=sophie:[e2ds,1007310]', 'sophie.cgi?n=sophie&c=i&z=fd&o=sophie:[e2ds,1007510]', 'sophie.cgi?n=sophie&c=i&z=fd&o=sophie:[e2ds,1007710]']\n",
      "[11, 12, 13, 14, 15, 16, 17]\n"
     ]
    }
   ],
   "source": [
    "links, none_url_list = column()\n",
    "print(links)\n",
    "print(none_url_list)"
   ]
  },
  {
   "cell_type": "code",
   "execution_count": 13,
   "id": "a5390651",
   "metadata": {},
   "outputs": [
    {
     "data": {
      "text/plain": [
       "['sophie.cgi?n=sophie&c=i&z=fd&o=sophie:[e2ds,671480]',\n",
       " 'sophie.cgi?n=sophie&c=i&z=fd&o=sophie:[e2ds,815760]',\n",
       " 'sophie.cgi?n=sophie&c=i&z=fd&o=sophie:[e2ds,815780]',\n",
       " 'sophie.cgi?n=sophie&c=i&z=fd&o=sophie:[e2ds,825680]',\n",
       " 'sophie.cgi?n=sophie&c=i&z=fd&o=sophie:[e2ds,847890]',\n",
       " 'sophie.cgi?n=sophie&c=i&z=fd&o=sophie:[e2ds,848960]',\n",
       " 'sophie.cgi?n=sophie&c=i&z=fd&o=sophie:[e2ds,1014070]',\n",
       " 'sophie.cgi?n=sophie&c=i&z=fd&o=sophie:[e2ds,1203340]',\n",
       " 'sophie.cgi?n=sophie&c=i&z=fd&o=sophie:[e2ds,1217920]',\n",
       " 'sophie.cgi?n=sophie&c=i&z=fd&o=sophie:[e2ds,1225370]',\n",
       " 'sophie.cgi?n=sophie&c=i&z=fd&o=sophie:[e2ds,1244250]',\n",
       " 'sophie.cgi?n=sophie&c=i&z=fd&o=sophie:[e2ds,133040]',\n",
       " 'sophie.cgi?n=sophie&c=i&z=fd&o=sophie:[e2ds,133820]',\n",
       " 'sophie.cgi?n=sophie&c=i&z=fd&o=sophie:[e2ds,137810]',\n",
       " 'sophie.cgi?n=sophie&c=i&z=fd&o=sophie:[e2ds,139920]',\n",
       " 'sophie.cgi?n=sophie&c=i&z=fd&o=sophie:[e2ds,145770]',\n",
       " 'sophie.cgi?n=sophie&c=i&z=fd&o=sophie:[e2ds,146670]',\n",
       " 'sophie.cgi?n=sophie&c=i&z=fd&o=sophie:[e2ds,147590]',\n",
       " 'sophie.cgi?n=sophie&c=i&z=fd&o=sophie:[e2ds,148320]',\n",
       " 'sophie.cgi?n=sophie&c=i&z=fd&o=sophie:[e2ds,156380]',\n",
       " 'sophie.cgi?n=sophie&c=i&z=fd&o=sophie:[e2ds,156480]',\n",
       " 'sophie.cgi?n=sophie&c=i&z=fd&o=sophie:[e2ds,157680]',\n",
       " 'sophie.cgi?n=sophie&c=i&z=fd&o=sophie:[e2ds,159310]',\n",
       " 'sophie.cgi?n=sophie&c=i&z=fd&o=sophie:[e2ds,160760]',\n",
       " 'sophie.cgi?n=sophie&c=i&z=fd&o=sophie:[e2ds,161800]',\n",
       " 'sophie.cgi?n=sophie&c=i&z=fd&o=sophie:[e2ds,163770]',\n",
       " 'sophie.cgi?n=sophie&c=i&z=fd&o=sophie:[e2ds,418730]',\n",
       " 'sophie.cgi?n=sophie&c=i&z=fd&o=sophie:[e2ds,419030]',\n",
       " 'sophie.cgi?n=sophie&c=i&z=fd&o=sophie:[e2ds,419230]',\n",
       " 'sophie.cgi?n=sophie&c=i&z=fd&o=sophie:[e2ds,419580]',\n",
       " 'sophie.cgi?n=sophie&c=i&z=fd&o=sophie:[e2ds,419590]',\n",
       " 'sophie.cgi?n=sophie&c=i&z=fd&o=sophie:[e2ds,420130]',\n",
       " 'sophie.cgi?n=sophie&c=i&z=fd&o=sophie:[e2ds,420370]',\n",
       " 'sophie.cgi?n=sophie&c=i&z=fd&o=sophie:[e2ds,420610]',\n",
       " 'sophie.cgi?n=sophie&c=i&z=fd&o=sophie:[e2ds,420850]',\n",
       " 'sophie.cgi?n=sophie&c=i&z=fd&o=sophie:[e2ds,421570]',\n",
       " 'sophie.cgi?n=sophie&c=i&z=fd&o=sophie:[e2ds,421900]',\n",
       " 'sophie.cgi?n=sophie&c=i&z=fd&o=sophie:[e2ds,421910]',\n",
       " 'sophie.cgi?n=sophie&c=i&z=fd&o=sophie:[e2ds,422150]',\n",
       " 'sophie.cgi?n=sophie&c=i&z=fd&o=sophie:[e2ds,422390]',\n",
       " 'sophie.cgi?n=sophie&c=i&z=fd&o=sophie:[e2ds,422490]',\n",
       " 'sophie.cgi?n=sophie&c=i&z=fd&o=sophie:[e2ds,422590]',\n",
       " 'sophie.cgi?n=sophie&c=i&z=fd&o=sophie:[e2ds,423310]',\n",
       " 'sophie.cgi?n=sophie&c=i&z=fd&o=sophie:[e2ds,423500]',\n",
       " 'sophie.cgi?n=sophie&c=i&z=fd&o=sophie:[e2ds,423510]',\n",
       " 'sophie.cgi?n=sophie&c=i&z=fd&o=sophie:[e2ds,423750]',\n",
       " 'sophie.cgi?n=sophie&c=i&z=fd&o=sophie:[e2ds,423990]',\n",
       " 'sophie.cgi?n=sophie&c=i&z=fd&o=sophie:[e2ds,424230]',\n",
       " 'sophie.cgi?n=sophie&c=i&z=fd&o=sophie:[e2ds,424370]',\n",
       " 'sophie.cgi?n=sophie&c=i&z=fd&o=sophie:[e2ds,425090]',\n",
       " 'sophie.cgi?n=sophie&c=i&z=fd&o=sophie:[e2ds,425240]',\n",
       " 'sophie.cgi?n=sophie&c=i&z=fd&o=sophie:[e2ds,425250]',\n",
       " 'sophie.cgi?n=sophie&c=i&z=fd&o=sophie:[e2ds,425490]',\n",
       " 'sophie.cgi?n=sophie&c=i&z=fd&o=sophie:[e2ds,425730]',\n",
       " 'sophie.cgi?n=sophie&c=i&z=fd&o=sophie:[e2ds,425970]',\n",
       " 'sophie.cgi?n=sophie&c=i&z=fd&o=sophie:[e2ds,426070]',\n",
       " 'sophie.cgi?n=sophie&c=i&z=fd&o=sophie:[e2ds,426790]',\n",
       " 'sophie.cgi?n=sophie&c=i&z=fd&o=sophie:[e2ds,427000]',\n",
       " 'sophie.cgi?n=sophie&c=i&z=fd&o=sophie:[e2ds,427010]',\n",
       " 'sophie.cgi?n=sophie&c=i&z=fd&o=sophie:[e2ds,427250]',\n",
       " 'sophie.cgi?n=sophie&c=i&z=fd&o=sophie:[e2ds,427490]',\n",
       " 'sophie.cgi?n=sophie&c=i&z=fd&o=sophie:[e2ds,427610]',\n",
       " 'sophie.cgi?n=sophie&c=i&z=fd&o=sophie:[e2ds,427850]',\n",
       " 'sophie.cgi?n=sophie&c=i&z=fd&o=sophie:[e2ds,428570]',\n",
       " 'sophie.cgi?n=sophie&c=i&z=fd&o=sophie:[e2ds,428890]',\n",
       " 'sophie.cgi?n=sophie&c=i&z=fd&o=sophie:[e2ds,429020]',\n",
       " 'sophie.cgi?n=sophie&c=i&z=fd&o=sophie:[e2ds,429030]',\n",
       " 'sophie.cgi?n=sophie&c=i&z=fd&o=sophie:[e2ds,429230]',\n",
       " 'sophie.cgi?n=sophie&c=i&z=fd&o=sophie:[e2ds,429240]',\n",
       " 'sophie.cgi?n=sophie&c=i&z=fd&o=sophie:[e2ds,429360]',\n",
       " 'sophie.cgi?n=sophie&c=i&z=fd&o=sophie:[e2ds,429480]',\n",
       " 'sophie.cgi?n=sophie&c=i&z=fd&o=sophie:[e2ds,429600]',\n",
       " 'sophie.cgi?n=sophie&c=i&z=fd&o=sophie:[e2ds,429730]',\n",
       " 'sophie.cgi?n=sophie&c=i&z=fd&o=sophie:[e2ds,429970]',\n",
       " 'sophie.cgi?n=sophie&c=i&z=fd&o=sophie:[e2ds,430210]',\n",
       " 'sophie.cgi?n=sophie&c=i&z=fd&o=sophie:[e2ds,430520]',\n",
       " 'sophie.cgi?n=sophie&c=i&z=fd&o=sophie:[e2ds,430530]',\n",
       " 'sophie.cgi?n=sophie&c=i&z=fd&o=sophie:[e2ds,430770]',\n",
       " 'sophie.cgi?n=sophie&c=i&z=fd&o=sophie:[e2ds,430890]',\n",
       " 'sophie.cgi?n=sophie&c=i&z=fd&o=sophie:[e2ds,431010]',\n",
       " 'sophie.cgi?n=sophie&c=i&z=fd&o=sophie:[e2ds,431250]',\n",
       " 'sophie.cgi?n=sophie&c=i&z=fd&o=sophie:[e2ds,991080]',\n",
       " 'sophie.cgi?n=sophie&c=i&z=fd&o=sophie:[e2ds,991130]',\n",
       " 'sophie.cgi?n=sophie&c=i&z=fd&o=sophie:[e2ds,991260]',\n",
       " 'sophie.cgi?n=sophie&c=i&z=fd&o=sophie:[e2ds,991460]',\n",
       " 'sophie.cgi?n=sophie&c=i&z=fd&o=sophie:[e2ds,991660]',\n",
       " 'sophie.cgi?n=sophie&c=i&z=fd&o=sophie:[e2ds,991670]',\n",
       " 'sophie.cgi?n=sophie&c=i&z=fd&o=sophie:[e2ds,991870]',\n",
       " 'sophie.cgi?n=sophie&c=i&z=fd&o=sophie:[e2ds,992070]',\n",
       " 'sophie.cgi?n=sophie&c=i&z=fd&o=sophie:[e2ds,992270]',\n",
       " 'sophie.cgi?n=sophie&c=i&z=fd&o=sophie:[e2ds,992550]',\n",
       " 'sophie.cgi?n=sophie&c=i&z=fd&o=sophie:[e2ds,992560]',\n",
       " 'sophie.cgi?n=sophie&c=i&z=fd&o=sophie:[e2ds,992760]',\n",
       " 'sophie.cgi?n=sophie&c=i&z=fd&o=sophie:[e2ds,992960]',\n",
       " 'sophie.cgi?n=sophie&c=i&z=fd&o=sophie:[e2ds,993160]',\n",
       " 'sophie.cgi?n=sophie&c=i&z=fd&o=sophie:[e2ds,993360]',\n",
       " 'sophie.cgi?n=sophie&c=i&z=fd&o=sophie:[e2ds,993560]',\n",
       " 'sophie.cgi?n=sophie&c=i&z=fd&o=sophie:[e2ds,993760]',\n",
       " 'sophie.cgi?n=sophie&c=i&z=fd&o=sophie:[e2ds,994120]',\n",
       " 'sophie.cgi?n=sophie&c=i&z=fd&o=sophie:[e2ds,994130]',\n",
       " 'sophie.cgi?n=sophie&c=i&z=fd&o=sophie:[e2ds,994330]',\n",
       " 'sophie.cgi?n=sophie&c=i&z=fd&o=sophie:[e2ds,994530]',\n",
       " 'sophie.cgi?n=sophie&c=i&z=fd&o=sophie:[e2ds,994730]',\n",
       " 'sophie.cgi?n=sophie&c=i&z=fd&o=sophie:[e2ds,994930]',\n",
       " 'sophie.cgi?n=sophie&c=i&z=fd&o=sophie:[e2ds,995130]',\n",
       " 'sophie.cgi?n=sophie&c=i&z=fd&o=sophie:[e2ds,995330]',\n",
       " 'sophie.cgi?n=sophie&c=i&z=fd&o=sophie:[e2ds,995530]',\n",
       " 'sophie.cgi?n=sophie&c=i&z=fd&o=sophie:[e2ds,995870]',\n",
       " 'sophie.cgi?n=sophie&c=i&z=fd&o=sophie:[e2ds,995880]',\n",
       " 'sophie.cgi?n=sophie&c=i&z=fd&o=sophie:[e2ds,996080]',\n",
       " 'sophie.cgi?n=sophie&c=i&z=fd&o=sophie:[e2ds,996280]',\n",
       " 'sophie.cgi?n=sophie&c=i&z=fd&o=sophie:[e2ds,996480]',\n",
       " 'sophie.cgi?n=sophie&c=i&z=fd&o=sophie:[e2ds,996680]',\n",
       " 'sophie.cgi?n=sophie&c=i&z=fd&o=sophie:[e2ds,996980]',\n",
       " 'sophie.cgi?n=sophie&c=i&z=fd&o=sophie:[e2ds,997120]',\n",
       " 'sophie.cgi?n=sophie&c=i&z=fd&o=sophie:[e2ds,997130]',\n",
       " 'sophie.cgi?n=sophie&c=i&z=fd&o=sophie:[e2ds,997330]',\n",
       " 'sophie.cgi?n=sophie&c=i&z=fd&o=sophie:[e2ds,997530]',\n",
       " 'sophie.cgi?n=sophie&c=i&z=fd&o=sophie:[e2ds,997730]',\n",
       " 'sophie.cgi?n=sophie&c=i&z=fd&o=sophie:[e2ds,997930]',\n",
       " 'sophie.cgi?n=sophie&c=i&z=fd&o=sophie:[e2ds,998230]',\n",
       " 'sophie.cgi?n=sophie&c=i&z=fd&o=sophie:[e2ds,998430]',\n",
       " 'sophie.cgi?n=sophie&c=i&z=fd&o=sophie:[e2ds,998630]',\n",
       " 'sophie.cgi?n=sophie&c=i&z=fd&o=sophie:[e2ds,998770]',\n",
       " 'sophie.cgi?n=sophie&c=i&z=fd&o=sophie:[e2ds,998780]',\n",
       " 'sophie.cgi?n=sophie&c=i&z=fd&o=sophie:[e2ds,998980]',\n",
       " 'sophie.cgi?n=sophie&c=i&z=fd&o=sophie:[e2ds,999180]',\n",
       " 'sophie.cgi?n=sophie&c=i&z=fd&o=sophie:[e2ds,999380]',\n",
       " 'sophie.cgi?n=sophie&c=i&z=fd&o=sophie:[e2ds,999580]',\n",
       " 'sophie.cgi?n=sophie&c=i&z=fd&o=sophie:[e2ds,999780]',\n",
       " 'sophie.cgi?n=sophie&c=i&z=fd&o=sophie:[e2ds,999980]',\n",
       " 'sophie.cgi?n=sophie&c=i&z=fd&o=sophie:[e2ds,1000180]',\n",
       " 'sophie.cgi?n=sophie&c=i&z=fd&o=sophie:[e2ds,1000380]',\n",
       " 'sophie.cgi?n=sophie&c=i&z=fd&o=sophie:[e2ds,1000520]',\n",
       " 'sophie.cgi?n=sophie&c=i&z=fd&o=sophie:[e2ds,1000530]',\n",
       " 'sophie.cgi?n=sophie&c=i&z=fd&o=sophie:[e2ds,1000700]',\n",
       " 'sophie.cgi?n=sophie&c=i&z=fd&o=sophie:[e2ds,1000710]',\n",
       " 'sophie.cgi?n=sophie&c=i&z=fd&o=sophie:[e2ds,1000910]',\n",
       " 'sophie.cgi?n=sophie&c=i&z=fd&o=sophie:[e2ds,1001110]',\n",
       " 'sophie.cgi?n=sophie&c=i&z=fd&o=sophie:[e2ds,1001310]',\n",
       " 'sophie.cgi?n=sophie&c=i&z=fd&o=sophie:[e2ds,1001510]',\n",
       " 'sophie.cgi?n=sophie&c=i&z=fd&o=sophie:[e2ds,1001670]',\n",
       " 'sophie.cgi?n=sophie&c=i&z=fd&o=sophie:[e2ds,1001680]',\n",
       " 'sophie.cgi?n=sophie&c=i&z=fd&o=sophie:[e2ds,1001880]',\n",
       " 'sophie.cgi?n=sophie&c=i&z=fd&o=sophie:[e2ds,1002080]',\n",
       " 'sophie.cgi?n=sophie&c=i&z=fd&o=sophie:[e2ds,1002280]',\n",
       " 'sophie.cgi?n=sophie&c=i&z=fd&o=sophie:[e2ds,1002480]',\n",
       " 'sophie.cgi?n=sophie&c=i&z=fd&o=sophie:[e2ds,1002680]',\n",
       " 'sophie.cgi?n=sophie&c=i&z=fd&o=sophie:[e2ds,1002880]',\n",
       " 'sophie.cgi?n=sophie&c=i&z=fd&o=sophie:[e2ds,1003080]',\n",
       " 'sophie.cgi?n=sophie&c=i&z=fd&o=sophie:[e2ds,1003280]',\n",
       " 'sophie.cgi?n=sophie&c=i&z=fd&o=sophie:[e2ds,1003430]',\n",
       " 'sophie.cgi?n=sophie&c=i&z=fd&o=sophie:[e2ds,1003440]',\n",
       " 'sophie.cgi?n=sophie&c=i&z=fd&o=sophie:[e2ds,1003640]',\n",
       " 'sophie.cgi?n=sophie&c=i&z=fd&o=sophie:[e2ds,1003840]',\n",
       " 'sophie.cgi?n=sophie&c=i&z=fd&o=sophie:[e2ds,1004040]',\n",
       " 'sophie.cgi?n=sophie&c=i&z=fd&o=sophie:[e2ds,1004240]',\n",
       " 'sophie.cgi?n=sophie&c=i&z=fd&o=sophie:[e2ds,1004440]',\n",
       " 'sophie.cgi?n=sophie&c=i&z=fd&o=sophie:[e2ds,1004640]',\n",
       " 'sophie.cgi?n=sophie&c=i&z=fd&o=sophie:[e2ds,1004960]',\n",
       " 'sophie.cgi?n=sophie&c=i&z=fd&o=sophie:[e2ds,1004970]',\n",
       " 'sophie.cgi?n=sophie&c=i&z=fd&o=sophie:[e2ds,1005170]',\n",
       " 'sophie.cgi?n=sophie&c=i&z=fd&o=sophie:[e2ds,1005370]',\n",
       " 'sophie.cgi?n=sophie&c=i&z=fd&o=sophie:[e2ds,1005410]',\n",
       " 'sophie.cgi?n=sophie&c=i&z=fd&o=sophie:[e2ds,1005610]',\n",
       " 'sophie.cgi?n=sophie&c=i&z=fd&o=sophie:[e2ds,1005810]',\n",
       " 'sophie.cgi?n=sophie&c=i&z=fd&o=sophie:[e2ds,1006010]',\n",
       " 'sophie.cgi?n=sophie&c=i&z=fd&o=sophie:[e2ds,1006300]',\n",
       " 'sophie.cgi?n=sophie&c=i&z=fd&o=sophie:[e2ds,1006310]',\n",
       " 'sophie.cgi?n=sophie&c=i&z=fd&o=sophie:[e2ds,1006510]',\n",
       " 'sophie.cgi?n=sophie&c=i&z=fd&o=sophie:[e2ds,1006710]',\n",
       " 'sophie.cgi?n=sophie&c=i&z=fd&o=sophie:[e2ds,1006910]',\n",
       " 'sophie.cgi?n=sophie&c=i&z=fd&o=sophie:[e2ds,1007110]',\n",
       " 'sophie.cgi?n=sophie&c=i&z=fd&o=sophie:[e2ds,1007310]',\n",
       " 'sophie.cgi?n=sophie&c=i&z=fd&o=sophie:[e2ds,1007510]',\n",
       " 'sophie.cgi?n=sophie&c=i&z=fd&o=sophie:[e2ds,1007710]']"
      ]
     },
     "execution_count": 13,
     "metadata": {},
     "output_type": "execute_result"
    }
   ],
   "source": [
    "unir_espacios = [link.replace(' ', '') for link in links]\n",
    "unir_espacios"
   ]
  },
  {
   "cell_type": "markdown",
   "id": "414f8991",
   "metadata": {},
   "source": [
    "### http://atlas.obs-hp.fr/sophie/sophie.cgi?n=sophiecc&a=hexp&fql=[seq%20=671480]\n",
    "### http://atlas.obs-hp.fr/sophie/sophie.cgi?n=sophie&c=i&z=fd&o=sophie:[e2ds,671480]"
   ]
  },
  {
   "cell_type": "code",
   "execution_count": 15,
   "id": "fc59acfe",
   "metadata": {},
   "outputs": [],
   "source": [
    "def _build_link(links):\n",
    "    unir_espacios = [link.replace(' ', '') for link in links]\n",
    "    link_header = 'http://atlas.obs-hp.fr/sophie/'\n",
    "    \n",
    "    new_link = []\n",
    "    for i in unir_espacios:\n",
    "        new_link.append('{}{}'.format(link_header, i))\n",
    "    return new_link"
   ]
  },
  {
   "cell_type": "code",
   "execution_count": 16,
   "id": "a54bda5e",
   "metadata": {},
   "outputs": [
    {
     "name": "stdout",
     "output_type": "stream",
     "text": [
      "http://atlas.obs-hp.fr/sophie/sophie.cgi?n=sophie&c=i&z=fd&o=sophie:[e2ds,671480]\n"
     ]
    }
   ],
   "source": [
    "print(_build_link(links)[0])"
   ]
  },
  {
   "cell_type": "code",
   "execution_count": 17,
   "id": "064d43d6",
   "metadata": {},
   "outputs": [],
   "source": [
    "# cadena.endswith('da') TRUE"
   ]
  },
  {
   "cell_type": "markdown",
   "id": "33a23067",
   "metadata": {},
   "source": [
    "# JD. Unir a transform.py la 3ra celda"
   ]
  },
  {
   "cell_type": "code",
   "execution_count": 85,
   "id": "7e8ebf11",
   "metadata": {
    "scrolled": true
   },
   "outputs": [],
   "source": [
    "response = requests.get(_build_link(links)[0])\n",
    "\n",
    "soup = bs4.BeautifulSoup(response.text, 'html.parser')"
   ]
  },
  {
   "cell_type": "code",
   "execution_count": 99,
   "id": "61a671c3",
   "metadata": {},
   "outputs": [
    {
     "ename": "ValueError",
     "evalue": "substring not found",
     "output_type": "error",
     "traceback": [
      "\u001b[1;31m---------------------------------------------------------------------------\u001b[0m",
      "\u001b[1;31mValueError\u001b[0m                                Traceback (most recent call last)",
      "\u001b[1;32m<ipython-input-99-f94bd11533c7>\u001b[0m in \u001b[0;36m<module>\u001b[1;34m\u001b[0m\n\u001b[0;32m      2\u001b[0m \u001b[0mx\u001b[0m \u001b[1;33m=\u001b[0m \u001b[0mquery\u001b[0m\u001b[1;33m[\u001b[0m\u001b[1;36m0\u001b[0m\u001b[1;33m]\u001b[0m\u001b[1;33m.\u001b[0m\u001b[0mtext\u001b[0m\u001b[1;33m\u001b[0m\u001b[1;33m\u001b[0m\u001b[0m\n\u001b[0;32m      3\u001b[0m \u001b[0mx\u001b[0m \u001b[1;33m=\u001b[0m \u001b[1;34m''\u001b[0m\u001b[1;33m\u001b[0m\u001b[1;33m\u001b[0m\u001b[0m\n\u001b[1;32m----> 4\u001b[1;33m \u001b[0mprint\u001b[0m\u001b[1;33m(\u001b[0m\u001b[0mx\u001b[0m\u001b[1;33m.\u001b[0m\u001b[0mindex\u001b[0m\u001b[1;33m(\u001b[0m\u001b[1;34m'BJD     24'\u001b[0m\u001b[1;33m)\u001b[0m\u001b[1;33m)\u001b[0m\u001b[1;33m\u001b[0m\u001b[1;33m\u001b[0m\u001b[0m\n\u001b[0m",
      "\u001b[1;31mValueError\u001b[0m: substring not found"
     ]
    }
   ],
   "source": [
    "query = soup.select('div[class=\"cizfd\"] pre')\n",
    "x = query[0].text\n",
    "x = ''\n",
    "print(x.index('BJD     24'))"
   ]
  },
  {
   "cell_type": "code",
   "execution_count": 95,
   "id": "6b869f33",
   "metadata": {},
   "outputs": [
    {
     "data": {
      "text/plain": [
       "(2454700.48409259, 38210, 38235)"
      ]
     },
     "execution_count": 95,
     "metadata": {},
     "output_type": "execute_result"
    }
   ],
   "source": [
    "\n",
    "inicio = query[0].text.index('BJD     24')\n",
    "final = query[0].text.index('Barycentric Julian Day')\n",
    "JD = float(query[0].text[inicio:final].replace('BJD','').replace(' ', ''))\n",
    "JD, inicio, final"
   ]
  },
  {
   "cell_type": "code",
   "execution_count": 21,
   "id": "cbaab2f2",
   "metadata": {},
   "outputs": [
    {
     "data": {
      "text/plain": [
       "'Hola Mun'"
      ]
     },
     "execution_count": 21,
     "metadata": {},
     "output_type": "execute_result"
    }
   ],
   "source": [
    "mensaje9 = \"Hola Mundo\"\n",
    "inicio = mensaje9.find('Ho')\n",
    "final = mensaje9.find('do')\n",
    "mensaje9[inicio:final]"
   ]
  },
  {
   "cell_type": "markdown",
   "id": "3c9819be",
   "metadata": {},
   "source": [
    "# Radial Velocity. Unir a transform.py la 3ra celda"
   ]
  },
  {
   "cell_type": "code",
   "execution_count": 77,
   "id": "87bc9fd4",
   "metadata": {},
   "outputs": [],
   "source": [
    "response = requests.get('http://atlas.obs-hp.fr/sophie/sophie.cgi?n=sophiecc&a=hexp&fql=[seq%20=671480]')\n",
    "\n",
    "soup = bs4.BeautifulSoup(response.text, 'html.parser')"
   ]
  },
  {
   "cell_type": "code",
   "execution_count": 78,
   "id": "5255b086",
   "metadata": {
    "scrolled": true
   },
   "outputs": [
    {
     "name": "stdout",
     "output_type": "stream",
     "text": [
      "<!DOCTYPE html PUBLIC \"-//W3C//DTD HTML 4.01 Transitional//EN\" \"http://www.w3.org/TR/html4/loose.dtd\">\n",
      "\n",
      "<html>\n",
      "<head>\n",
      "<title>Cross-correlation functions</title> <meta content=\"text/html; charset=utf-8\" http-equiv=\"Content-Type\"/>\n",
      "<link href=\"pleinpot.css\" rel=\"stylesheet\" type=\"text/css\"/>\n",
      "<base target=\"_top\"/>\n",
      "<script src=\"pleinpot.js\"></script>\n",
      "<script>var pleinpot_version='8.18.10'; var table_description='Cross-correlation functions';var table_name='sophiecc'</script>\n",
      "</head>\n",
      "<body>\n",
      "<table border=\"0\"><tr><td><a href=\"http://www.obs-hp.fr/\"><img alt=\"Observatoire de Haute Provence (OHP)\" border=\"0\" src=\"logo-OHP.gif\"/></a></td><td align=\"center\" width=\"100%\"><font face=\"helvetica,arial\"><h1>The SOPHIE archive</h1></font></td> <td><a href=\"http://www.obs-hp.fr/guide/sophie/sophie-eng.shtml\"><img alt=\"SOPHIE\" border=\"0\" src=\"sophie_sm.jpg\" width=\"200\"/></a></td></tr></table>\n",
      "<br/><center><h2>\n",
      "<script>document.write(table_description);</script>\n",
      "</h2></center><br/>\n",
      "<div class=\"cozd\">\n",
      "<div class=\"ahexp\">\n",
      "<center><span style=\"font-weight:bold\">HD217014     </span></center>\n",
      "<table class=\"datatable\"><tr>\n",
      "<th>label</th>\n",
      "<th>value</th>\n",
      "<th>unit</th>\n",
      "<th>description</th></tr>\n",
      "<tr><td><a href=\"javascript:Help('help.html#seq')\" title=\"Sequence number\">seq</a></td><td> 671480</td><td></td><td>Sequence number</td></tr><tr><td><a href=\"javascript:Help('help.html#objname')\" title=\"Designation of the object\">objname</a></td><td><a href=\"sophie.cgi?c=m&amp;f=f&amp;o=index.html&amp;p=[cat.o=HD217014]\">HD217014</a></td><td></td><td>Designation of the object</td></tr><tr><td><a href=\"javascript:Help('help.html#date')\" title=\"Observation date\">date</a></td><td>2008-08-21</td><td></td><td>Observation date</td></tr><tr><td><a href=\"javascript:Help('series_help.html#slen')\" title=\"Length of the series\">slen</a></td><td><a href=\"sophie.cgi?n=sophiecc&amp;a=htab&amp;ob=seq&amp;fql=[sseq =671480]\">   1</a></td><td></td><td>Length of the series</td></tr><tr><td><a href=\"javascript:Help('ccf_help.html#mask')\" title=\"Name of the mask\">mask</a></td><td>G2</td><td></td><td>Name of the mask</td></tr><tr><td><a href=\"javascript:Help('ccf_help.html#ccf_offline')\" title=\"Offline CCF\">ccf_offline</a></td><td>0</td><td></td><td>Offline CCF</td></tr><tr><td><a href=\"javascript:Help('ccf_help.html#rv')\" title=\"Radial velocity\">rv</a></td><td>-33.139 ± 0.0002</td><td>km/s</td><td>Radial velocity</td></tr><tr><td><a href=\"javascript:Help('ccf_help.html#fwhm')\" title=\"FWHM of the correlation peak\">fwhm</a></td><td>   7.996</td><td>km/s</td><td>FWHM of the correlation peak</td></tr><tr><td><a href=\"javascript:Help('ccf_help.html#span')\" title=\"Bissector span\">span</a></td><td> -0.019</td><td>km/s</td><td>Bissector span</td></tr><tr><td><a href=\"javascript:Help('ccf_help.html#maxcpp')\" title=\"Maximum number of counts per pixel\">maxcpp</a></td><td>  65466</td><td></td><td>Maximum number of counts per pixel</td></tr><tr><td><a href=\"javascript:Help('ccf_help.html#contrast')\" title=\"Contrast of the CCF\">contrast</a></td><td> 43.71</td><td>%</td><td>Contrast of the CCF</td></tr><tr><td><a href=\"javascript:Help('ccf_help.html#lines')\" title=\"Number of lines used for the CCF\">lines</a></td><td>4737</td><td></td><td>Number of lines used for the CCF</td></tr><tr><td><a href=\"javascript:Help('ccf_help.html#view_head')\" title=\"See the header of the cross-correlation file\">view_head</a></td><td><a href=\"sophie.cgi?n=sophiecc&amp;c=i&amp;z=fd&amp;o=sophie:[ccf,671480,G2,0]\">view_head</a></td><td></td><td>See the header of the cross-correlation file</td></tr><tr><td><a href=\"javascript:Help('ccf_help.html#get_ccf')\" title=\"Download the cross-correlation function FITS file\">get_ccf</a></td><td><a href=\"sophie.cgi?n=sophiecc&amp;c=i&amp;a=mime:application/fits&amp;o=sophie:[ccf,671480,G2,0]\">get_ccf</a></td><td></td><td>Download the cross-correlation function FITS file</td></tr><tr><td><a href=\"javascript:Help('ccf_help.html#view_ccf')\" title=\"View the cross-correlation function\">view_ccf</a></td><td><a href=\"sophie.cgi?n=sophiecc&amp;a=hexp&amp;fql=[seq =671480],[mask ='G2']\">view_ccf</a></td><td></td><td>View the cross-correlation function</td></tr></table>\n",
      "<div style=\"text-align:center\">\n",
      "<img src=\"sophie.cgi?n=sophiecc&amp;c=i&amp;o=sophie:[ccf,671480,G2,0]&amp;a=gif&amp;z=xtc[m,n40,m,n40]|vs\"><br/></img></div>\n",
      "</div><!-- ahexp -->\n",
      "</div><!-- cozd -->\n",
      "<div><table style=\"margin:auto;\"><tr><td><a href=\"sophie.cgi?n=sophiecc&amp;c=o&amp;of=1,leda,simbad&amp;a=t&amp;z=d|wg|e&amp;nra=l,simbad,d&amp;fql=[seq%20=671480]\">Display this selection as plain text</a></td></tr>\n",
      "<tr><td><a href=\"sophie.cgi?n=sophiescc&amp;c=o&amp;of=1,leda,simbad&amp;a=hexp&amp;z=d|wg|e&amp;nra=l,simbad,d&amp;fql=[seq%20=671480]\">Show only the first observation for long series</a></td></tr>\n",
      "<tr><td><a href=\"sophie.cgi?n=sophie&amp;c=o&amp;of=1,leda,simbad&amp;a=hexp&amp;z=d|wg|e&amp;nra=l,simbad,d&amp;fql=[seq%20=671480]\">Search the spectra for the same objects</a></td></tr>\n",
      "<tr><td><a href=\"http://atlas.obs-hp.fr/elodie/fE.cgi?c=o&amp;of=1,leda,simbad&amp;z=d|wg|e&amp;ob=ra&amp;nra=l,simbad,d&amp;fql=[seq%20=671480]\">Apply the same selection to the Elodie archive</a></td></tr>\n",
      "<tr><td><a href=\"sophie.cgi?n=sophiecc&amp;c=o&amp;of=1,leda,simbad&amp;a=t&amp;z=d|wg|e&amp;d=[%27wget%20%22http%3A//atlas%2Eobs-hp%2Efr/sophie/sophie%2Ecgi?c=i%26a=mime%3Aapplication/fits%26o=sophie%3A[ccf,%27||seq||%27,%27||mask||%27]%22%20-O%20%27||seq||%27_%27||mask||%27_ccf%2Efits%27]&amp;nra=l,simbad,d&amp;fql=[seq%20=671480]\">Get the wget commands to download all the selected crosscorrelation functions</a></td>\n",
      "<td><a href=\"fits.html#wget\">Explanations</a></td></tr>\n",
      "</table></div><div class=\"coze\">\n",
      "<script type=\"text/javascript\">\n",
      "var target=window.top; /* target may possibly be changed by the calling script */\n",
      "function repl_sqb(str) {\n",
      " var balance=0;\n",
      " var m = str.match(/\\[/g);\n",
      " if (m) balance = m.length;\n",
      " var m = str.match(/\\]/g);\n",
      " if (m) balance -= m.length;\n",
      " if ( balance == 0) return str;\n",
      " var out = str.replace(/(E?)'.*\\[[^']*'/g, function(match,p1){return match.replace(/\\[/g, \"'||E'\\\\x5B'||\"+p1+\"'\");});\n",
      " return out.replace(/(E?)'.*\\][^']*'/g, function(match,p1){return match.replace(/\\]/g, \"'||E'\\\\x5D'||\"+p1+\"'\");});\n",
      "};\n",
      "function table_select(dnl) {\n",
      " var l=\"\";\n",
      " var d=\"\";\n",
      " var d_changed = false;\n",
      " var fql=\"\";\n",
      " var sql=\"\";\n",
      " var file_upload=0;\n",
      " var constrained=0;\n",
      " var cozef = document.getElementById(\"cozef\");\n",
      " var cozef_display; \n",
      " if (cozef)\n",
      "  cozef_display = window.getComputedStyle(cozef, null).getPropertyValue(\"display\");\n",
      " if (document.selcf && document.selcf.active.value == \"1\" && cozef_display == 'table') {;\n",
      "  for (var i=0;i<document.selcf.sl.length;i++) {\n",
      "   if (document.selcf.sl[i].checked) {\n",
      "       if (d.length > 0) d += \",\"\n",
      "       d += document.selcf.sl[i].value\n",
      "   }\n",
      "   if (document.selcf.sl[i].checked != document.selcf.sl[i].defaultChecked) d_changed = true;\n",
      "  }\n",
      "  if (d_changed) l += \"&d=\" + encodeURIComponent(d)\n",
      " \n",
      "  for (var i=0;i<document.selcf.length;i++){\n",
      "   if(document.selcf[i].type != \"text\") continue;\n",
      "   if(document.selcf[i].value.length == 0) continue;\n",
      "   if (fql.length > 0) fql += \",\";\n",
      "   fql += '['+document.selcf[i].name+' '+repl_sqb(document.selcf[i].value)+\"]\";\n",
      "  }\n",
      "  if(fql.length > 0) {\n",
      "   l += '&fql=' + encodeURIComponent(fql);\n",
      "   constrained = 1;\n",
      "  }\n",
      "  // Check the radio buttons for sorting\n",
      "  var radios = document.selcf.elements[\"ob\"];\n",
      "  for (var i=0; i<radios.length; i++) {\n",
      "   if (radios[i].checked) { \n",
      "    l += '&ob=' + radios[i].value; \n",
      "    break; \n",
      "   }\n",
      "  }\n",
      " }\n",
      "\n",
      " var cozeq = document.getElementById(\"cozeq\");\n",
      " var cozeq_display; \n",
      " if (cozeq)\n",
      "  cozeq_display = window.getComputedStyle(cozeq, null).getPropertyValue(\"display\");\n",
      " if (document.selcq && document.selcq.active.value == \"1\" && cozeq_display == 'table') {;\n",
      "  for (var i=0;i<document.selcq.length;i++) {\n",
      "   if (document.selcq[i].name == \"d\") {\n",
      "    if (document.selcq[i].value == document.selcq[i].defaultValue) continue;\n",
      "    l += \"&d=\";\n",
      "   }\n",
      "   else if (document.selcq[i].name == \"sql\") {\n",
      "     l += \"&sql=\";\n",
      "     constrained = 1;\n",
      "   }\n",
      "   else if (document.selcq[i].name == \"ob\") {\n",
      "     l += \"&ob=\";\n",
      "   }\n",
      "   else continue;\n",
      "   l += encodeURIComponent(document.selcq[i].value)\n",
      "  }\n",
      " }\n",
      "\n",
      " if (document.selcs && document.selcs.active.value == \"1\") {\n",
      "  if (sky_mode == 0) {   l += '&o='+encodeURIComponent(document.selcs.o[0].value);\n",
      "   constrained = 1;\n",
      "  }\n",
      "  else if (sky_mode == 1) {   if (isNaN(document.selcs.c1.value))\n",
      "    {alert(\"Field size must be a number\"); return false;}\n",
      "   if (isNaN(document.selcs.c2.value))\n",
      "    {alert(\"Field size must be a number\"); return false;}\n",
      "   l += '&p='+encodeURIComponent(document.selcs.o[0].value);\n",
      "   switch(document.selcs.geom.selectedIndex) {\n",
      "   case 0: l += '&f=box['+encodeURIComponent(document.selcs.c1.value)+']'; break;\n",
      "   case 1: l += '&f=disk['+encodeURIComponent(document.selcs.c1.value)+']'; break;\n",
      "   case 2: l += '&f=box['+encodeURIComponent(document.selcs.c1.value)+','+encodeURIComponent(document.selcs.c2.value)+']'; break;\n",
      "   }\n",
      "   constrained = 1;\n",
      "  }\n",
      "  else if (sky_mode == 2) {   file_upload = 1; l += '&lo=1';\n",
      "   constrained = 1;\n",
      "   if (typeof document.selcs.o.length == 'undefined' || document.selcs.o[1].value.length==0) {;\n",
      "    alert(\"No file selected\"); return false;   }\n",
      "  }\n",
      " }\n",
      " if(constrained == 0) {\n",
      "  if (document.selcs && document.selcs.active.value == \"1\") {\n",
      "   if (!confirm(\"Use this form to search some objects, constrain some fields and/or change the selection of displayed field. No constraint were set, and therefore the whole table will be displayed. If this is what you want, click OK.\")) return false;\n",
      "  } else {\n",
      "   if (!confirm(\"Use this form to constrain some fields and/or change the selection of displayed field. No constraint were set, and therefore the whole table will be displayed. If this is what you want, click OK.\")) return false;\n",
      "  }\n",
      " }\n",
      " l += '&a=' + encodeURIComponent(document.selco.a.options[document.selco.a.selectedIndex].value);\n",
      " if (dnl!==undefined) l += '&dnl=' + dnl;\n",
      " if (file_upload == 1) submit_url(loc+l, \"POST\", target.name, \"filelo\");\n",
      " else target.location = loc + l;\n",
      " return false;\n",
      "}  /* function table_select */\n",
      "function table_default() {\n",
      " if (document.selcs) {\n",
      "  document.selcs.reset();\n",
      "  skyselect(default_sky);\n",
      "  boxselect(default_box);\n",
      " }\n",
      " if (document.selcf) document.selcf.reset();\n",
      " if (document.selcq) document.selcq.reset();\n",
      " return false;\n",
      "}  /* function table_default */\n",
      "function table_reset() {\n",
      " if (document.selcs) {\n",
      "  document.selcs.reset();\n",
      "  skyselect(default_sky);\n",
      "  boxselect(default_box);\n",
      " }\n",
      " if (document.selcf) {\n",
      "  if (typeof hlqd == 'undefined'|| hlqd.length == 0) {\n",
      "   for (var i=0;i<document.selcf.sl.length;i++) {\n",
      "    document.selcf.sl[i].checked = document.selcf.sl[i].defaultChecked;\n",
      "   }\n",
      "  }\n",
      "  else {\n",
      "   for (var i=0;i<document.selcf.sl.length;i++) {\n",
      "    if (hlqd.indexOf(document.selcf.sl[i].value) != -1) document.selcf.sl[i].checked = true;\n",
      "    else document.selcf.sl[i].checked = false;\n",
      "   }\n",
      "  }\n",
      "  if (typeof hlqob == 'undefined'|| hlqob.length == 0) {\n",
      "   for (var i=0;i<document.selcf.ob.length;i++) {\n",
      "     document.selcf.ob[i].checked = document.selcf.ob[i].defaultChecked;\n",
      "   }\n",
      "  }\n",
      "  else {\n",
      "   for (var i=0;i<document.selcf.ob.length;i++) {\n",
      "    if (hlqob == document.selcf.ob[i].value) document.selcf.ob[i].checked = true;\n",
      "    else document.selcf.ob[i].checked = false;\n",
      "   }\n",
      "  }\n",
      "  if (typeof ifqlf == 'undefined'|| ifqlf.length == 0) {\n",
      "   for (var i=0;i<document.selcf.length;i++) {\n",
      "    if (document.selcf[i].type == \"text\")     document.selcf[i].value = document.selcf[i].defaultValue;\n",
      "   }\n",
      "  } else {\n",
      "   var j;\n",
      "   for (var i=0;i<document.selcf.length;i++) {\n",
      "    if (document.selcf[i].type != \"text\") continue;\n",
      "    j = ifqlf.indexOf(document.selcf[i].name);\n",
      "    if (j==-1) document.selcf[i].value = \"\";\n",
      "    else document.selcf[i].value = ifqlc[j];\n",
      "   }\n",
      "  }\n",
      " }\n",
      " if (document.selcq) {\n",
      "  var d_reset = \"\"\n",
      "  if (typeof hlqd != 'undefined') d_reset = hlqd\n",
      "  else {\n",
      "   for (var i=0;i<document.selcq.length;i++) {\n",
      "    if (document.selcq[i].name == \"d\") {\n",
      "     d_reset = document.selcq[i].defaultValue;\n",
      "     break;\n",
      "    }\n",
      "   }\n",
      "  }\n",
      "  var sql_reset = \"\"\n",
      "  if (typeof hlqsql != 'undefined') sql_reset = hlqsql\n",
      "  var ob_reset = \"\"\n",
      "  if (typeof hlqob != 'undefined') ob_reset = hlqob\n",
      "  for (var i=0;i<document.selcq.length;i++) {\n",
      "   if (document.selcq[i].name == \"d\") document.selcq[i].value = d_reset;\n",
      "   else if (document.selcq[i].name == \"sql\") document.selcq[i].value = sql_reset;\n",
      "   else if (document.selcq[i].name == \"ob\") document.selcq[i].value = ob_reset;\n",
      "  }\n",
      " }\n",
      " return false;\n",
      "}  /* function table_reset */\n",
      "function toggle_tbody(button, active) {\n",
      "var tbody = button.nextElementSibling\n",
      "if (tbody.style.display == \"none\") {\n",
      "  button.style.border=\"0\";\n",
      "  tbody.style.display=\"table-row-group\";\n",
      "  if (tbody.nextElementSibling) tbody.nextElementSibling.style.display=\"table-row-group\";\n",
      "  button.firstChild.className=\"fold\"\n",
      "  active.value=\"1\"\n",
      "} else {\n",
      "  button.style.border=\"1px solid black\";\n",
      "  tbody.style.display=\"none\";\n",
      "  if (tbody.nextElementSibling) tbody.nextElementSibling.style.display=\"none\";\n",
      "  button.firstChild.className=\"unfold\"\n",
      "  active.value=\"0\"\n",
      "}\n",
      "return true;\n",
      "}\n",
      "</script>\n",
      "<script>\n",
      " var select_default = \"seq,$link[objname],date,$link[slen],mask,ccf_offline,$field[rv],fwhm,span,maxcpp,contrast,lines,$link['view_head'],$link['get_ccf'],$link['view_ccf']\";\n",
      " var ifqlf = [\"seq\",\"\"];\n",
      " var ifqlc = [\"=671480\",\"\"];\n",
      " var loc=\"sophie.cgi?n=sophiecc&c=o&of=1,leda,simbad&nra=l,simbad,d\"\n",
      "</script>\n",
      "<p></p>\n",
      "<script>\n",
      "var sky_mode = 0;\n",
      "function skyselect(index) {var cone = document.getElementById('skybox').style;if (index == 2 || (index == 1 && !have_radec)) { sky_mode=2; document.selcs.o[0].style.display='none'; document.selcs.o[1].style.display='inline';} else { sky_mode=0; document.selcs.o[0].style.display='inline'; document.selcs.o[1].style.display='none';}if ((index == 1 && have_radec) || (have_radec && !have_objname)) {cone.display='table-row'; sky_mode=1;} else {cone.display='none'}}function boxselect(index) {var boxu = document.getElementById('boxunit');var boxs = document.getElementById('boxsize').style;switch(index) {case 0: boxu.innerHTML='arcmin half-side';boxs.display='none'; break;case 1: boxu.innerHTML='arcmin radius';boxs.display='none'; break;case 2: boxu.innerHTML='arcmin half-side';boxs.display='inline'; break;}}\n",
      "var have_objname = true;var have_radec = true;</script>\n",
      "<form name=\"selcs\" onsubmit=\"return table_select()\">\n",
      "<input name=\"active\" type=\"hidden\" value=\"1\"/>\n",
      "<table class=\"table_menu\" id=\"cozes\">\n",
      "<caption onclick=\"return toggle_tbody(this,document.selcs.active)\"><span class=\"fold\" style=\"float:left\"></span>Sky search</caption>\n",
      "<thead>\n",
      "<tr><td><select name=\"f\" onchange=\"skyselect(this.selectedIndex)\"><option value=\"objname\">Object name or list</option><option value=\"cone\">Near object or position</option><option value=\"file\">Objects list from file</option></select></td><td><input name=\"o\" size=\"50\" type=\"text\" value=\"\"/><input id=\"filelo\" name=\"o\" size=\"50\" style=\"display:none;\" type=\"file\"/></td></tr>\n",
      "<tr id=\"skybox\" style=\"display:none;\"><td>in a <select name=\"geom\" onchange=\"boxselect(this.selectedIndex)\"><option value=\"sbox\">square box</option><option value=\"disk\">disk</option><option value=\"rbox\">rectangular box</option></select></td><td> of <input name=\"c1\" size=\"10\" type=\"text\" value=\"1\"/> <span id=\"boxsize\" style=\"display:none;\">by <input name=\"c2\" size=\"10\" type=\"text\"/></span> <span id=\"boxunit\">arcmin half-side</span></td></tr>\n",
      "</thead></table>\n",
      "<input style=\"display:none\" type=\"submit\"><script>\n",
      "toggle_tbody(document.getElementById(\"cozes\").children[0],document.selcs.active);\n",
      "</script>\n",
      "</input></form><script>var default_sky = 0;var default_box = 0;</script><p></p>\n",
      "<form name=\"selcf\" onsubmit=\"return table_select()\">\n",
      "<input name=\"active\" type=\"hidden\" value=\"1\"/>\n",
      "<table class=\"table_menu\" id=\"cozef\">\n",
      "<caption onclick=\"return toggle_tbody(this,document.selcf.active)\"><span class=\"fold\" style=\"float:left\"></span>Constrain any fields, choose the fields to display, and order the records<a class=\"ahelp\" href=\"sql_help.html?fq\" onclick=\"var event = arguments[0] || window.event;event.stopPropagation();return Help(this.href);\" style=\"float:right\"></a><span style=\"float:right;font-size:50%\"><a href=\"/\" onclick=\"toggle_fq(0,1); return false;\">SQL</a> </span><script>\n",
      "function toggle_fq(m,p) {\n",
      "  if (m == 0) {\n",
      "    document.getElementById(\"cozef\").style.display='none';\n",
      "    document.getElementById(\"cozeq\").style.display='table';\n",
      "    if (p == 1)\n",
      "      toggle_tbody(document.getElementById(\"cozef\").getElementsByTagName(\"CAPTION\")[0],document.selcf.active);\n",
      "  } else {\n",
      "    document.getElementById(\"cozeq\").style.display='none';\n",
      "    document.getElementById(\"cozef\").style.display='table';\n",
      "    if (p == 1)\n",
      "      toggle_tbody(document.getElementById(\"cozeq\").getElementsByTagName(\"CAPTION\")[0],document.selcq.active);\n",
      "  }\n",
      "\n",
      "  return false;\n",
      "}\n",
      "</script>\n",
      "</caption><thead>\n",
      "<tr><th>Field</th><th></th><th><a title=\"Set constraints on the values of any column. Examples (numerical columns): = 1000; between 1 and 2; != 0 (character columns): ='Messier'; like 'HD%'; ...\">Constraint</a></th><th><a title=\"Select the columns to be displayed\">Show</a></th><th>Sort</th></tr>\n",
      "</thead>\n",
      "<tbody><tr><td><a href=\"javascript:Help('help.html#seq')\" title=\"Sequence number\">seq</a></td><td></td><td><input name=\"seq\" size=\"50\" type=\"text\"/><br/></td><td><input checked=\"\" name=\"sl\" type=\"checkbox\" value=\"seq\"/></td><td><input name=\"ob\" onclick=\"return checkonly(this)\" type=\"checkbox\" value=\"seq\"/><br/></td></tr>\n",
      "<tr><td><a href=\"javascript:Help('help.html#objname')\" title=\"Designation of the object\">objname</a></td><td></td><td><input name=\"objname\" size=\"50\" type=\"text\"/><br/></td><td><input checked=\"\" name=\"sl\" type=\"checkbox\" value=\"$link[objname]\"/></td><td><input name=\"ob\" onclick=\"return checkonly(this)\" type=\"checkbox\" value=\"objname\"/><br/></td></tr>\n",
      "<tr><td><a href=\"javascript:Help('help.html#date')\" title=\"Observation date\">date</a></td><td></td><td><input name=\"date\" size=\"50\" type=\"text\"/><br/></td><td><input checked=\"\" name=\"sl\" type=\"checkbox\" value=\"date\"/></td><td><input name=\"ob\" onclick=\"return checkonly(this)\" type=\"checkbox\" value=\"date\"/><br/></td></tr>\n",
      "<tr><td><a href=\"javascript:Help('series_help.html#slen')\" title=\"Length of the series\">slen</a></td><td></td><td><input name=\"slen\" size=\"50\" type=\"text\"/><br/></td><td><input checked=\"\" name=\"sl\" type=\"checkbox\" value=\"$link[slen]\"/></td><td><input name=\"ob\" onclick=\"return checkonly(this)\" type=\"checkbox\" value=\"slen\"/><br/></td></tr>\n",
      "<tr><td><a href=\"javascript:Help('ccf_help.html#mask')\" title=\"Name of the mask\">mask</a></td><td></td><td><input name=\"mask\" size=\"50\" type=\"text\"/><br/></td><td><input checked=\"\" name=\"sl\" type=\"checkbox\" value=\"mask\"/></td><td><input name=\"ob\" onclick=\"return checkonly(this)\" type=\"checkbox\" value=\"mask\"/><br/></td></tr>\n",
      "<tr><td><a href=\"javascript:Help('ccf_help.html#ccf_offline')\" title=\"Offline CCF\">ccf_offline</a></td><td></td><td><input name=\"ccf_offline\" size=\"50\" type=\"text\"/><br/></td><td><input checked=\"\" name=\"sl\" type=\"checkbox\" value=\"ccf_offline\"/></td><td><input name=\"ob\" onclick=\"return checkonly(this)\" type=\"checkbox\" value=\"ccf_offline\"/><br/></td></tr>\n",
      "<tr><td><a href=\"javascript:Help('ccf_help.html#rv')\" title=\"Radial velocity\">rv</a></td><td>rv<br/>err<br/></td><td><input name=\"rv\" size=\"50\" type=\"text\"/><br/><input name=\"err\" size=\"50\" type=\"text\"/><br/></td><td><input checked=\"\" name=\"sl\" type=\"checkbox\" value=\"$field[rv]\"/></td><td><input name=\"ob\" onclick=\"return checkonly(this)\" type=\"checkbox\" value=\"rv\"/><br/><input name=\"ob\" onclick=\"return checkonly(this)\" type=\"checkbox\" value=\"err\"/><br/></td></tr>\n",
      "<tr><td><a href=\"javascript:Help('ccf_help.html#fwhm')\" title=\"FWHM of the correlation peak\">fwhm</a></td><td></td><td><input name=\"fwhm\" size=\"50\" type=\"text\"/><br/></td><td><input checked=\"\" name=\"sl\" type=\"checkbox\" value=\"fwhm\"/></td><td><input name=\"ob\" onclick=\"return checkonly(this)\" type=\"checkbox\" value=\"fwhm\"/><br/></td></tr>\n",
      "<tr><td><a href=\"javascript:Help('ccf_help.html#span')\" title=\"Bissector span\">span</a></td><td></td><td><input name=\"span\" size=\"50\" type=\"text\"/><br/></td><td><input checked=\"\" name=\"sl\" type=\"checkbox\" value=\"span\"/></td><td><input name=\"ob\" onclick=\"return checkonly(this)\" type=\"checkbox\" value=\"span\"/><br/></td></tr>\n",
      "<tr><td><a href=\"javascript:Help('ccf_help.html#maxcpp')\" title=\"Maximum number of counts per pixel\">maxcpp</a></td><td></td><td><input name=\"maxcpp\" size=\"50\" type=\"text\"/><br/></td><td><input checked=\"\" name=\"sl\" type=\"checkbox\" value=\"maxcpp\"/></td><td><input name=\"ob\" onclick=\"return checkonly(this)\" type=\"checkbox\" value=\"maxcpp\"/><br/></td></tr>\n",
      "<tr><td><a href=\"javascript:Help('ccf_help.html#contrast')\" title=\"Contrast of the CCF\">contrast</a></td><td></td><td><input name=\"contrast\" size=\"50\" type=\"text\"/><br/></td><td><input checked=\"\" name=\"sl\" type=\"checkbox\" value=\"contrast\"/></td><td><input name=\"ob\" onclick=\"return checkonly(this)\" type=\"checkbox\" value=\"contrast\"/><br/></td></tr>\n",
      "<tr><td><a href=\"javascript:Help('ccf_help.html#lines')\" title=\"Number of lines used for the CCF\">lines</a></td><td></td><td><input name=\"lines\" size=\"50\" type=\"text\"/><br/></td><td><input checked=\"\" name=\"sl\" type=\"checkbox\" value=\"lines\"/></td><td><input name=\"ob\" onclick=\"return checkonly(this)\" type=\"checkbox\" value=\"lines\"/><br/></td></tr>\n",
      "<tr><td><a href=\"javascript:Help('ccf_help.html#view_head')\" title=\"See the header of the cross-correlation file\">view_head</a></td><td></td><td></td><td><input checked=\"\" name=\"sl\" type=\"checkbox\" value=\"$link['view_head']\"/></td><td></td></tr>\n",
      "<tr><td><a href=\"javascript:Help('ccf_help.html#get_ccf')\" title=\"Download the cross-correlation function FITS file\">get_ccf</a></td><td></td><td></td><td><input checked=\"\" name=\"sl\" type=\"checkbox\" value=\"$link['get_ccf']\"/></td><td></td></tr>\n",
      "<tr><td><a href=\"javascript:Help('ccf_help.html#view_ccf')\" title=\"View the cross-correlation function\">view_ccf</a></td><td></td><td></td><td><input checked=\"\" name=\"sl\" type=\"checkbox\" value=\"$link['view_ccf']\"/></td><td></td></tr>\n",
      "<tr><td><a href=\"javascript:Help('target_help.html#alpha')\" title=\"B1950 right ascension\">ra</a></td><td></td><td><input name=\"ra\" size=\"50\" type=\"text\"/></td><td><input name=\"sl\" type=\"checkbox\" value=\"ra\"/></td><td><input name=\"ob\" onclick=\"return checkonly(this)\" type=\"checkbox\" value=\"ra\"/></td></tr>\n",
      "<tr><td><a href=\"javascript:Help('target_help.html#delta')\" title=\"B1950 declination\">dec</a></td><td></td><td><input name=\"dec\" size=\"50\" type=\"text\"/></td><td><input name=\"sl\" type=\"checkbox\" value=\"dec\"/></td><td><input name=\"ob\" onclick=\"return checkonly(this)\" type=\"checkbox\" value=\"dec\"/></td></tr>\n",
      "<tr><td><a href=\"javascript:Help('series_help.html#sseq')\" title=\"Sequence number of the series of observation\">sseq</a></td><td></td><td><input name=\"sseq\" size=\"50\" type=\"text\"/></td><td><input name=\"sl\" type=\"checkbox\" value=\"sseq\"/></td><td><input name=\"ob\" onclick=\"return checkonly(this)\" type=\"checkbox\" value=\"sseq\"/></td></tr>\n",
      "<tr><td><a href=\"javascript:Help('ccf_help.html#dvrms')\" title=\"1-sigma error on rv\">dvrms</a></td><td></td><td><input name=\"dvrms\" size=\"50\" type=\"text\"/></td><td><input name=\"sl\" type=\"checkbox\" value=\"dvrms\"/></td><td><input name=\"ob\" onclick=\"return checkonly(this)\" type=\"checkbox\" value=\"dvrms\"/></td></tr>\n",
      "<tr><td><a href=\"javascript:Help('spec_help.html#obstype')\" title=\"Type of observation (SCI, TST or CAL)\">obstype</a></td><td></td><td><input name=\"obstype\" size=\"50\" type=\"text\"/></td><td><input name=\"sl\" type=\"checkbox\" value=\"obstype\"/></td><td><input name=\"ob\" onclick=\"return checkonly(this)\" type=\"checkbox\" value=\"obstype\"/></td></tr>\n",
      "<tr><td><a href=\"javascript:Help('series_help.html#expno')\" title=\"Observation number in the series\">expno</a></td><td></td><td><input name=\"expno\" size=\"50\" type=\"text\"/></td><td><input name=\"sl\" type=\"checkbox\" value=\"expno\"/></td><td><input name=\"ob\" onclick=\"return checkonly(this)\" type=\"checkbox\" value=\"expno\"/></td></tr>\n",
      "<tr><td><a href=\"javascript:Help('series_help.html#nexp')\" title=\"Scheduled length of the series\">nexp</a></td><td></td><td><input name=\"nexp\" size=\"50\" type=\"text\"/></td><td><input name=\"sl\" type=\"checkbox\" value=\"nexp\"/></td><td><input name=\"ob\" onclick=\"return checkonly(this)\" type=\"checkbox\" value=\"nexp\"/></td></tr>\n",
      "<tr><td><a href=\"javascript:Help('help.html#sn26')\" title=\"Signal/noise in order 26\">sn26</a></td><td></td><td><input name=\"sn26\" size=\"50\" type=\"text\"/></td><td><input name=\"sl\" type=\"checkbox\" value=\"sn26\"/></td><td><input name=\"ob\" onclick=\"return checkonly(this)\" type=\"checkbox\" value=\"sn26\"/></td></tr>\n",
      "<tr><td><a href=\"javascript:Help('target_help.html#target_name')\" title=\"Target name provided by the observer\">targetname</a></td><td></td><td><input name=\"targetname\" size=\"50\" type=\"text\"/></td><td><input name=\"sl\" type=\"checkbox\" value=\"targetname\"/></td><td><input name=\"ob\" onclick=\"return checkonly(this)\" type=\"checkbox\" value=\"targetname\"/></td></tr>\n",
      "<tr><td><a href=\"javascript:Help('target_help.html#target_sptype')\" title=\"Spectral type provided by the observer\">target_sptype</a></td><td></td><td><input name='\"target_sptype\"' size=\"50\" type=\"text\"/></td><td><input name=\"sl\" type=\"checkbox\" value='\"target_sptype\"'/></td><td><input name=\"ob\" onclick=\"return checkonly(this)\" type=\"checkbox\" value='\"target_sptype\"'/></td></tr>\n",
      "<tr><td><a href=\"javascript:Help('target_help.html#target_mv')\" title=\"V-band magnitude provided by the observer\">target_mv</a></td><td></td><td><input name='\"target_mv\"' size=\"50\" type=\"text\"/></td><td><input name=\"sl\" type=\"checkbox\" value='\"target_mv\"'/></td><td><input name=\"ob\" onclick=\"return checkonly(this)\" type=\"checkbox\" value='\"target_mv\"'/></td></tr>\n",
      "<tr><td><a href=\"javascript:Help('help.html#mjd')\" title=\"Modified Julian date when observation started (rounded to integer)\">mjd</a></td><td></td><td><input name=\"mjd\" size=\"50\" type=\"text\"/></td><td><input name=\"sl\" type=\"checkbox\" value=\"mjd\"/></td><td><input name=\"ob\" onclick=\"return checkonly(this)\" type=\"checkbox\" value=\"mjd\"/></td></tr>\n",
      "<tr><td><a href=\"javascript:Help('help.html#bjd')\" title=\"Barycentric Julian date\">bjd</a></td><td></td><td><input name=\"bjd\" size=\"50\" type=\"text\"/></td><td><input name=\"sl\" type=\"checkbox\" value=\"bjd\"/></td><td><input name=\"ob\" onclick=\"return checkonly(this)\" type=\"checkbox\" value=\"bjd\"/></td></tr>\n",
      "<input style=\"display:none\" type=\"submit\"/></tbody>\n",
      "</table>\n",
      "</form>\n",
      "<p></p>\n",
      "<form name=\"selcq\" onsubmit=\"return table_select()\">\n",
      "<input name=\"active\" type=\"hidden\" value=\"1\"/>\n",
      "<table class=\"table_menu\" id=\"cozeq\" style=\"display:none\">\n",
      "<caption onclick=\"return toggle_tbody(this,document.selcq.active)\"><span class=\"fold\" style=\"float:left\"></span>Choose the fields to display, set SQL constrains, and order the records<a class=\"ahelp\" href=\"sophie.cgi?qf&amp;c=m&amp;o=bin:cat/web/coze_sql.html\" onclick=\"var event = arguments[0] || window.event;event.stopPropagation();return Help(this.href);\" style=\"float:right\"></a><span style=\"float:right;font-size:60%\"><a href=\"/\" onclick=\"toggle_fq(1,1); return false;\">field constraints</a> </span></caption><tbody>\n",
      "<tr><td>SELECT <em style=\"float:right\">[List of fields to display]</em><button onclick=\"return Help('sophie.cgi?n=sophiecc&amp;c=metadata&amp;of=1,leda,simbad&amp;a=htab&amp;d=$link[field,docref,%2E/],type,units,description&amp;nra=l,simbad,d&amp;nakd=1');\" style=\"float:right\">Fields list</button></td></tr>\n",
      "<tr><td><textarea name=\"d\" style=\"width:100%;height:2.2em;box-sizing:border-box;resize:vertical\">seq,$link[objname],date,$link[slen],mask,ccf_offline,$field[rv],fwhm,span,maxcpp,contrast,lines,$link['view_head'],$link['get_ccf'],$link['view_ccf']</textarea></td></tr>\n",
      "<tr><td>FROM sophiecc<br/>WHERE <em style=\"float:right\">[SQL constraints]</em></td></tr>\n",
      "<tr><td><textarea name=\"sql\" style=\"width:100%;height:4.2em;;box-sizing:border-box;resize:vertical\"></textarea></td></tr>\n",
      "<tr><td>ORDER BY <em style=\"float:right\">[Sort key]</em></td></tr>\n",
      "<tr><td><textarea name=\"ob\" style=\"width:100%;height:1.2em;box-sizing:border-box;resize:vertical\"></textarea></td></tr>\n",
      "</tbody>\n",
      "</table>\n",
      "</form>\n",
      "<script>table_reset();</script>\n",
      "<script>\n",
      "function select_a(sel) {\n",
      " document.selco.csv.style.display = \"none\";\n",
      " if (sel.selectedIndex >= 3) \n",
      "  document.selco.dnl.style.display = \"inline\";\n",
      " else \n",
      "  document.selco.dnl.style.display = \"none\";\n",
      " if (sel.selectedIndex == 3 || sel.selectedIndex == 5) \n",
      "  document.selco.csv.parentElement.style.display = \"inline\";\n",
      " if (sel.selectedIndex == 3) document.selco.sep.style.display = \"inline\";\n",
      " else if (sel.selectedIndex == 5) {\n",
      "  select_csv(document.selco.csv);\n",
      "  document.selco.csv.style.display = \"inline\";\n",
      " }\n",
      " else {\n",
      "  document.selco.csv.parentElement.style.display = \"none\";\n",
      "  document.selco.sep.style.display = \"none\";\n",
      " }\n",
      " if (document.selco.sep.style.display == \"inline\") select_sep(document.selco.sep);\n",
      "}\n",
      "function select_csv(sel) {\n",
      " if (sel.selectedIndex == 1) {\n",
      "  document.selco.sep.style.display = \"inline\";\n",
      "  select_sep(document.selco.sep);\n",
      " } else {\n",
      "  document.selco.sep.style.display = \"none\";\n",
      "  document.selco.a[3].value = \"t\";\n",
      "  document.selco.a[5].value = \"csv\";\n",
      " }\n",
      "}\n",
      "function select_sep(sel) {\n",
      " if (sel.value.indexOf('[') > -1) {\n",
      "   alert('Invalid separator (square braket forbidden):'+sel.value); \n",
      "   sel.value = '';\n",
      " }\n",
      " if (document.selco.a.selectedIndex == 3) document.selco.a[3].value = 't['+sel.value+']';\n",
      " else if (document.selco.a.selectedIndex == 5) document.selco.a[5].value = 'csv['+sel.value+']';\n",
      "}\n",
      "</script>\n",
      "<form name=\"selco\" onsubmit=\"return table_select()\">\n",
      "<div class=\"table_menu\" style=\"padding-top:13px\">\n",
      "Output as <select name=\"a\" onchange=\"select_a(this)\"><option value=\"htab\">HTML table</option>\n",
      "<option value=\"html\">plain HTML</option>\n",
      "<option selected=\"\" value=\"hexp\">Expanded table</option>\n",
      "<option value=\"t\">Formatted text</option>\n",
      "<option value=\"x\">VOTable</option>\n",
      "<option value=\"csv\">CSV</option>\n",
      "</select>\n",
      "<span style=\"display:none\">separator \n",
      "<select name=\"csv\" onchange=\"select_csv(this)\" style=\"display:none\">\n",
      "<option selected=\"\" value=\"tab\">TAB</option>\n",
      "<option value=\"other\">other</option><span>\n",
      "</span></select>\n",
      "<input name=\"sep\" onchange=\"select_sep(this)\" size=\"4\" style=\"display:none\" type=\"text\"/>\n",
      "</span>\n",
      "<span style=\"float:right\">\n",
      "<button onclick=\"return table_default()\" style=\"margin-left:1.5em\">Default</button>\n",
      "<button onclick=\"return table_reset()\">Reset</button>\n",
      "<button onclick=\"return table_select()\" style=\"margin-left:1.5em\">Submit</button>\n",
      "<button name=\"dnl\" onclick=\"return table_select('sophiecc_1619388720.txt')\" style=\"display:none\">Save to file</button>\n",
      "</span>\n",
      "</div>\n",
      "</form>\n",
      "</div><!-- coze -->\n",
      "<div><a href=\"http://atlas.obs-hp.fr/sophie/\">Home</a></div>\n",
      "</body></html>\n"
     ]
    }
   ],
   "source": [
    "print(soup)"
   ]
  },
  {
   "cell_type": "code",
   "execution_count": 79,
   "id": "cc7a0206",
   "metadata": {},
   "outputs": [
    {
     "name": "stdout",
     "output_type": "stream",
     "text": [
      "-33.139 ± 0.0002\n"
     ]
    }
   ],
   "source": [
    "query = soup.select('table[class=\"datatable\"] tr')\n",
    "RV = query[7].select('td')[1].text\n",
    "print(RV)"
   ]
  },
  {
   "cell_type": "code",
   "execution_count": 81,
   "id": "92d35f16",
   "metadata": {},
   "outputs": [],
   "source": [
    "class NewsPage:\n",
    "\n",
    "    def __init__(self, response):\n",
    "        self.response = response\n",
    "        \n",
    "    def radial_velocity(self):\n",
    "        response = self.response\n",
    "        soup = bs4.BeautifulSoup(response.text, 'html.parser')\n",
    "        query = soup.select('table[class=\"datatable\"] tr')\n",
    "        result = query[7].select('td')[1].text\n",
    "        return result"
   ]
  },
  {
   "cell_type": "code",
   "execution_count": 82,
   "id": "3ac548aa",
   "metadata": {},
   "outputs": [
    {
     "name": "stdout",
     "output_type": "stream",
     "text": [
      "-33.139 ± 0.0002\n"
     ]
    }
   ],
   "source": [
    "response = requests.get('http://atlas.obs-hp.fr/sophie/sophie.cgi?n=sophiecc&a=hexp&fql=[seq%20=671480]')\n",
    "result = NewsPage(response)\n",
    "print(result.radial_velocity())"
   ]
  },
  {
   "cell_type": "markdown",
   "id": "02871624",
   "metadata": {},
   "source": [
    "# DataFrame"
   ]
  },
  {
   "cell_type": "code",
   "execution_count": 114,
   "id": "d6263c45",
   "metadata": {},
   "outputs": [
    {
     "data": {
      "text/html": [
       "<div>\n",
       "<style scoped>\n",
       "    .dataframe tbody tr th:only-of-type {\n",
       "        vertical-align: middle;\n",
       "    }\n",
       "\n",
       "    .dataframe tbody tr th {\n",
       "        vertical-align: top;\n",
       "    }\n",
       "\n",
       "    .dataframe thead th {\n",
       "        text-align: right;\n",
       "    }\n",
       "</style>\n",
       "<table border=\"1\" class=\"dataframe\">\n",
       "  <thead>\n",
       "    <tr style=\"text-align: right;\">\n",
       "      <th></th>\n",
       "      <th>0</th>\n",
       "      <th>1</th>\n",
       "    </tr>\n",
       "  </thead>\n",
       "  <tbody>\n",
       "    <tr>\n",
       "      <th>0</th>\n",
       "      <td>1</td>\n",
       "      <td>5</td>\n",
       "    </tr>\n",
       "    <tr>\n",
       "      <th>1</th>\n",
       "      <td>2</td>\n",
       "      <td>3</td>\n",
       "    </tr>\n",
       "    <tr>\n",
       "      <th>2</th>\n",
       "      <td>4</td>\n",
       "      <td>2</td>\n",
       "    </tr>\n",
       "    <tr>\n",
       "      <th>3</th>\n",
       "      <td>2</td>\n",
       "      <td>6</td>\n",
       "    </tr>\n",
       "    <tr>\n",
       "      <th>4</th>\n",
       "      <td>5</td>\n",
       "      <td>7</td>\n",
       "    </tr>\n",
       "  </tbody>\n",
       "</table>\n",
       "</div>"
      ],
      "text/plain": [
       "   0  1\n",
       "0  1  5\n",
       "1  2  3\n",
       "2  4  2\n",
       "3  2  6\n",
       "4  5  7"
      ]
     },
     "execution_count": 114,
     "metadata": {},
     "output_type": "execute_result"
    }
   ],
   "source": [
    "import pandas as pd\n",
    "import numpy as np\n",
    "a= [1,2,4,2,5]\n",
    "b= [5,3,2,6,7]\n",
    "c= np.array([a,b])\n",
    "header = ['asf', 'abc']\n",
    "df = pd.DataFrame(c.T, columns = header)\n",
    "print(df)\n",
    "c.T"
   ]
  },
  {
   "cell_type": "code",
   "execution_count": 41,
   "id": "1fe0e459",
   "metadata": {},
   "outputs": [
    {
     "name": "stdout",
     "output_type": "stream",
     "text": [
      "   a  b  c  d\n",
      "0  8  4  4  4\n",
      "1  4  4  4  6\n",
      "2  4  4  6  3\n",
      "3  9  2  9  5\n",
      "4  3  8  6  6\n",
      "5  2  5  5  3\n"
     ]
    }
   ],
   "source": [
    "# python 3.x\n",
    "import pandas as pd\n",
    "import numpy as np\n",
    "df = pd.DataFrame(\n",
    "    data=np.random.randint(\n",
    "        0, 10, (6,4)))\n",
    "df.columns=[\"a\", \"b\", \"c\", \"d\"]\n",
    "print(df)"
   ]
  },
  {
   "cell_type": "code",
   "execution_count": 44,
   "id": "145a7548",
   "metadata": {},
   "outputs": [
    {
     "data": {
      "text/html": [
       "<div>\n",
       "<style scoped>\n",
       "    .dataframe tbody tr th:only-of-type {\n",
       "        vertical-align: middle;\n",
       "    }\n",
       "\n",
       "    .dataframe tbody tr th {\n",
       "        vertical-align: top;\n",
       "    }\n",
       "\n",
       "    .dataframe thead th {\n",
       "        text-align: right;\n",
       "    }\n",
       "</style>\n",
       "<table border=\"1\" class=\"dataframe\">\n",
       "  <thead>\n",
       "    <tr style=\"text-align: right;\">\n",
       "      <th></th>\n",
       "      <th>asf</th>\n",
       "      <th>abc</th>\n",
       "    </tr>\n",
       "  </thead>\n",
       "  <tbody>\n",
       "    <tr>\n",
       "      <th>0</th>\n",
       "      <td>1</td>\n",
       "      <td>5</td>\n",
       "    </tr>\n",
       "    <tr>\n",
       "      <th>1</th>\n",
       "      <td>2</td>\n",
       "      <td>3</td>\n",
       "    </tr>\n",
       "    <tr>\n",
       "      <th>2</th>\n",
       "      <td>4</td>\n",
       "      <td>2</td>\n",
       "    </tr>\n",
       "    <tr>\n",
       "      <th>3</th>\n",
       "      <td>2</td>\n",
       "      <td>6</td>\n",
       "    </tr>\n",
       "    <tr>\n",
       "      <th>4</th>\n",
       "      <td>5</td>\n",
       "      <td>7</td>\n",
       "    </tr>\n",
       "  </tbody>\n",
       "</table>\n",
       "</div>"
      ],
      "text/plain": [
       "   asf  abc\n",
       "0    1    5\n",
       "1    2    3\n",
       "2    4    2\n",
       "3    2    6\n",
       "4    5    7"
      ]
     },
     "execution_count": 44,
     "metadata": {},
     "output_type": "execute_result"
    }
   ],
   "source": [
    "df"
   ]
  },
  {
   "cell_type": "code",
   "execution_count": 84,
   "id": "3d805243",
   "metadata": {},
   "outputs": [
    {
     "ename": "TypeError",
     "evalue": "object of type 'int' has no len()",
     "output_type": "error",
     "traceback": [
      "\u001b[1;31m---------------------------------------------------------------------------\u001b[0m",
      "\u001b[1;31mTypeError\u001b[0m                                 Traceback (most recent call last)",
      "\u001b[1;32m<ipython-input-84-500aca4169f9>\u001b[0m in \u001b[0;36m<module>\u001b[1;34m\u001b[0m\n\u001b[1;32m----> 1\u001b[1;33m \u001b[0mprint\u001b[0m\u001b[1;33m(\u001b[0m\u001b[0mlen\u001b[0m\u001b[1;33m(\u001b[0m\u001b[1;36m12\u001b[0m\u001b[1;33m)\u001b[0m\u001b[1;33m)\u001b[0m\u001b[1;33m\u001b[0m\u001b[1;33m\u001b[0m\u001b[0m\n\u001b[0m",
      "\u001b[1;31mTypeError\u001b[0m: object of type 'int' has no len()"
     ]
    }
   ],
   "source": [
    "print(len(12))"
   ]
  },
  {
   "cell_type": "code",
   "execution_count": null,
   "id": "068bc7f0",
   "metadata": {},
   "outputs": [],
   "source": []
  }
 ],
 "metadata": {
  "kernelspec": {
   "display_name": "Python 3",
   "language": "python",
   "name": "python3"
  },
  "language_info": {
   "codemirror_mode": {
    "name": "ipython",
    "version": 3
   },
   "file_extension": ".py",
   "mimetype": "text/x-python",
   "name": "python",
   "nbconvert_exporter": "python",
   "pygments_lexer": "ipython3",
   "version": "3.9.2"
  }
 },
 "nbformat": 4,
 "nbformat_minor": 5
}
