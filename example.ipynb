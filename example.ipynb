{
 "cells": [
  {
   "cell_type": "code",
   "execution_count": 167,
   "id": "208cf209",
   "metadata": {},
   "outputs": [
    {
     "name": "stdout",
     "output_type": "stream",
     "text": [
      "200\n"
     ]
    }
   ],
   "source": [
    "from datetime import datetime\n",
    "import requests\n",
    "\n",
    "response = requests.get('http://atlas.obs-hp.fr/sophie/sophie.cgi?n=sophies&a=htab&ob=ra,seq&c=o&o=51%20peg')\n",
    "\n",
    "print(response.status_code)"
   ]
  },
  {
   "cell_type": "code",
   "execution_count": 168,
   "id": "66d73adc",
   "metadata": {},
   "outputs": [
    {
     "name": "stdout",
     "output_type": "stream",
     "text": [
      "183\n",
      "dates:  183\n"
     ]
    }
   ],
   "source": [
    "import bs4\n",
    "\n",
    "# Obtener el html\n",
    "\n",
    "soup = bs4.BeautifulSoup(response.text, 'html.parser')\n",
    "\n",
    "xpath_title = '//table[@class=\"datatable\"]/tbody/tr/td[7]/text()'\n",
    "\n",
    "query = soup.select('table[class=\"datatable\"] tbody tr')\n",
    "\n",
    "print(len(query))\n",
    "#print(query[1].select('td')[6])\n",
    "dates = []\n",
    "for i in range(0, len(query)):\n",
    "    #print(query[i].select('td')[6].text)\n",
    "    dates.append(query[i].select('td')[6].text)\n",
    "print('dates: ', len(dates))"
   ]
  },
  {
   "cell_type": "code",
   "execution_count": 169,
   "id": "456fe760",
   "metadata": {},
   "outputs": [],
   "source": [
    "import bs4\n",
    "\n",
    "# Obtener el html\n",
    "\n",
    "soup = bs4.BeautifulSoup(response.text, 'html.parser')\n",
    "\n",
    "xpath_title = '//table[@class=\"datatable\"]/thead/tr/th/a/text()'\n",
    "\n",
    "\n",
    "query = soup.select('table[class=\"datatable\"] thead th')\n"
   ]
  },
  {
   "cell_type": "code",
   "execution_count": 170,
   "id": "8f46aa14",
   "metadata": {},
   "outputs": [
    {
     "name": "stdout",
     "output_type": "stream",
     "text": [
      "17\n"
     ]
    },
    {
     "data": {
      "text/plain": [
       "{'date': 6, 'fiber_b': 8, 'sn26': 10, 'view_spec': 11, 'search_ccf': 16}"
      ]
     },
     "execution_count": 170,
     "metadata": {},
     "output_type": "execute_result"
    }
   ],
   "source": [
    "print(len(query))\n",
    "\n",
    "header = []\n",
    "for i in range(0,len(query)):\n",
    "    header.append(query[i].text)\n",
    "\n",
    "lista = ['date', 'fiber_b', 'sn26', 'view_spec', 'search_ccf']    \n",
    "posicion = []\n",
    "for i in range(0,len(header)):\n",
    "    for j in range(0,len(lista)):\n",
    "        if header[i] == lista[j]:\n",
    "            posicion.append(i)\n",
    "\n",
    "diccionario ={}\n",
    "for i in range(0, len(lista)):\n",
    "    diccionario[lista[i]]=posicion[i]\n",
    "diccionario"
   ]
  },
  {
   "cell_type": "code",
   "execution_count": 171,
   "id": "f77c9464",
   "metadata": {},
   "outputs": [
    {
     "name": "stdout",
     "output_type": "stream",
     "text": [
      "[<a href=\"sophie.cgi?n=sophiecc&amp;a=hexp&amp;fql=[seq =825680]\">search_CCF</a>]\n"
     ]
    }
   ],
   "source": [
    "query = soup.select('table[class=\"datatable\"] tbody tr')\n",
    "\n",
    "#for i in range(0,len(query)):\n",
    "#    print(query[i]['href'])\n",
    "print(query[3].select('td')[16].select('a'))"
   ]
  },
  {
   "cell_type": "code",
   "execution_count": 172,
   "id": "374ba586",
   "metadata": {},
   "outputs": [],
   "source": [
    "def article_links(self):\n",
    "    link_list = []\n",
    "    for link in self._select(self._queries['homepage_article_links']):\n",
    "        if link and link.has_attr('href'):\n",
    "            link_list.append(link)\n",
    "\n",
    "    return set(link['href'] for link in link_list)"
   ]
  },
  {
   "cell_type": "code",
   "execution_count": 215,
   "id": "e84b1e68",
   "metadata": {},
   "outputs": [],
   "source": [
    "def column():    \n",
    "    query = soup.select('table[class=\"datatable\"] tbody tr')\n",
    "    \n",
    "    select_a = []\n",
    "    for i in range(0, len(query)):\n",
    "        data = query[i].select('td')[16].select('a')\n",
    "        select_a.append(data)\n",
    "    link_list = []\n",
    "    none_url = []\n",
    "    for index, link in enumerate(select_a):\n",
    "        if len(link) ==0:\n",
    "            link = [None]\n",
    "            none_url.append(index)\n",
    "        if link[0] and link[0].has_attr('href'):\n",
    "            link_list.append(link)\n",
    "\n",
    "            \n",
    "    return list(set(link[0]['href'] for link in link_list)), none_url\n"
   ]
  },
  {
   "cell_type": "code",
   "execution_count": 216,
   "id": "646dd53d",
   "metadata": {},
   "outputs": [
    {
     "name": "stdout",
     "output_type": "stream",
     "text": [
      "sophie.cgi?n=sophiecc&a=hexp&fql=[seq =1003430]\n",
      "7\n"
     ]
    }
   ],
   "source": [
    "a, b = column()\n",
    "print(a[0])\n",
    "print(len(b))"
   ]
  },
  {
   "cell_type": "code",
   "execution_count": 144,
   "id": "ba8c7142",
   "metadata": {},
   "outputs": [
    {
     "name": "stdout",
     "output_type": "stream",
     "text": [
      "[<a href=\"sophie.cgi?n=sophiecc&amp;a=hexp&amp;fql=[seq =671480]\">search_CCF</a>]\n",
      "[<a href=\"sophie.cgi?n=sophiecc&amp;a=hexp&amp;fql=[seq =815760]\">search_CCF</a>]\n",
      "[<a href=\"sophie.cgi?n=sophiecc&amp;a=hexp&amp;fql=[seq =815780]\">search_CCF</a>]\n",
      "[<a href=\"sophie.cgi?n=sophiecc&amp;a=hexp&amp;fql=[seq =825680]\">search_CCF</a>]\n",
      "[<a href=\"sophie.cgi?n=sophiecc&amp;a=hexp&amp;fql=[seq =847890]\">search_CCF</a>]\n",
      "[<a href=\"sophie.cgi?n=sophiecc&amp;a=hexp&amp;fql=[seq =848960]\">search_CCF</a>]\n",
      "[<a href=\"sophie.cgi?n=sophiecc&amp;a=hexp&amp;fql=[seq =1014070]\">search_CCF</a>]\n",
      "[<a href=\"sophie.cgi?n=sophiecc&amp;a=hexp&amp;fql=[seq =1203340]\">search_CCF</a>]\n",
      "[<a href=\"sophie.cgi?n=sophiecc&amp;a=hexp&amp;fql=[seq =1217920]\">search_CCF</a>]\n",
      "[<a href=\"sophie.cgi?n=sophiecc&amp;a=hexp&amp;fql=[seq =1225370]\">search_CCF</a>]\n",
      "[<a href=\"sophie.cgi?n=sophiecc&amp;a=hexp&amp;fql=[seq =1244250]\">search_CCF</a>]\n",
      "None\n",
      "None\n",
      "None\n",
      "None\n",
      "None\n",
      "None\n",
      "None\n",
      "[<a href=\"sophie.cgi?n=sophiecc&amp;a=hexp&amp;fql=[seq =133040]\">search_CCF</a>]\n",
      "[<a href=\"sophie.cgi?n=sophiecc&amp;a=hexp&amp;fql=[seq =133820]\">search_CCF</a>]\n",
      "[<a href=\"sophie.cgi?n=sophiecc&amp;a=hexp&amp;fql=[seq =137810]\">search_CCF</a>]\n",
      "[<a href=\"sophie.cgi?n=sophiecc&amp;a=hexp&amp;fql=[seq =139920]\">search_CCF</a>]\n",
      "[<a href=\"sophie.cgi?n=sophiecc&amp;a=hexp&amp;fql=[seq =145770]\">search_CCF</a>]\n",
      "[<a href=\"sophie.cgi?n=sophiecc&amp;a=hexp&amp;fql=[seq =146670]\">search_CCF</a>]\n",
      "[<a href=\"sophie.cgi?n=sophiecc&amp;a=hexp&amp;fql=[seq =147590]\">search_CCF</a>]\n",
      "[<a href=\"sophie.cgi?n=sophiecc&amp;a=hexp&amp;fql=[seq =148320]\">search_CCF</a>]\n",
      "[<a href=\"sophie.cgi?n=sophiecc&amp;a=hexp&amp;fql=[seq =156380]\">search_CCF</a>]\n",
      "[<a href=\"sophie.cgi?n=sophiecc&amp;a=hexp&amp;fql=[seq =156480]\">search_CCF</a>]\n",
      "[<a href=\"sophie.cgi?n=sophiecc&amp;a=hexp&amp;fql=[seq =157680]\">search_CCF</a>]\n",
      "[<a href=\"sophie.cgi?n=sophiecc&amp;a=hexp&amp;fql=[seq =159310]\">search_CCF</a>]\n",
      "[<a href=\"sophie.cgi?n=sophiecc&amp;a=hexp&amp;fql=[seq =160760]\">search_CCF</a>]\n",
      "[<a href=\"sophie.cgi?n=sophiecc&amp;a=hexp&amp;fql=[seq =161800]\">search_CCF</a>]\n",
      "[<a href=\"sophie.cgi?n=sophiecc&amp;a=hexp&amp;fql=[seq =163770]\">search_CCF</a>]\n",
      "[<a href=\"sophie.cgi?n=sophiecc&amp;a=hexp&amp;fql=[seq =418730]\">search_CCF</a>]\n",
      "[<a href=\"sophie.cgi?n=sophiecc&amp;a=hexp&amp;fql=[seq =419030]\">search_CCF</a>]\n",
      "[<a href=\"sophie.cgi?n=sophiecc&amp;a=hexp&amp;fql=[seq =419230]\">search_CCF</a>]\n",
      "[<a href=\"sophie.cgi?n=sophiecc&amp;a=hexp&amp;fql=[seq =419580]\">search_CCF</a>]\n",
      "[<a href=\"sophie.cgi?n=sophiecc&amp;a=hexp&amp;fql=[seq =419590]\">search_CCF</a>]\n",
      "[<a href=\"sophie.cgi?n=sophiecc&amp;a=hexp&amp;fql=[seq =420130]\">search_CCF</a>]\n",
      "[<a href=\"sophie.cgi?n=sophiecc&amp;a=hexp&amp;fql=[seq =420370]\">search_CCF</a>]\n",
      "[<a href=\"sophie.cgi?n=sophiecc&amp;a=hexp&amp;fql=[seq =420610]\">search_CCF</a>]\n",
      "[<a href=\"sophie.cgi?n=sophiecc&amp;a=hexp&amp;fql=[seq =420850]\">search_CCF</a>]\n",
      "[<a href=\"sophie.cgi?n=sophiecc&amp;a=hexp&amp;fql=[seq =421570]\">search_CCF</a>]\n",
      "[<a href=\"sophie.cgi?n=sophiecc&amp;a=hexp&amp;fql=[seq =421900]\">search_CCF</a>]\n",
      "[<a href=\"sophie.cgi?n=sophiecc&amp;a=hexp&amp;fql=[seq =421910]\">search_CCF</a>]\n",
      "[<a href=\"sophie.cgi?n=sophiecc&amp;a=hexp&amp;fql=[seq =422150]\">search_CCF</a>]\n",
      "[<a href=\"sophie.cgi?n=sophiecc&amp;a=hexp&amp;fql=[seq =422390]\">search_CCF</a>]\n",
      "[<a href=\"sophie.cgi?n=sophiecc&amp;a=hexp&amp;fql=[seq =422490]\">search_CCF</a>]\n",
      "[<a href=\"sophie.cgi?n=sophiecc&amp;a=hexp&amp;fql=[seq =422590]\">search_CCF</a>]\n",
      "[<a href=\"sophie.cgi?n=sophiecc&amp;a=hexp&amp;fql=[seq =423310]\">search_CCF</a>]\n",
      "[<a href=\"sophie.cgi?n=sophiecc&amp;a=hexp&amp;fql=[seq =423500]\">search_CCF</a>]\n",
      "[<a href=\"sophie.cgi?n=sophiecc&amp;a=hexp&amp;fql=[seq =423510]\">search_CCF</a>]\n",
      "[<a href=\"sophie.cgi?n=sophiecc&amp;a=hexp&amp;fql=[seq =423750]\">search_CCF</a>]\n",
      "[<a href=\"sophie.cgi?n=sophiecc&amp;a=hexp&amp;fql=[seq =423990]\">search_CCF</a>]\n",
      "[<a href=\"sophie.cgi?n=sophiecc&amp;a=hexp&amp;fql=[seq =424230]\">search_CCF</a>]\n",
      "[<a href=\"sophie.cgi?n=sophiecc&amp;a=hexp&amp;fql=[seq =424370]\">search_CCF</a>]\n",
      "[<a href=\"sophie.cgi?n=sophiecc&amp;a=hexp&amp;fql=[seq =425090]\">search_CCF</a>]\n",
      "[<a href=\"sophie.cgi?n=sophiecc&amp;a=hexp&amp;fql=[seq =425240]\">search_CCF</a>]\n",
      "[<a href=\"sophie.cgi?n=sophiecc&amp;a=hexp&amp;fql=[seq =425250]\">search_CCF</a>]\n",
      "[<a href=\"sophie.cgi?n=sophiecc&amp;a=hexp&amp;fql=[seq =425490]\">search_CCF</a>]\n",
      "[<a href=\"sophie.cgi?n=sophiecc&amp;a=hexp&amp;fql=[seq =425730]\">search_CCF</a>]\n",
      "[<a href=\"sophie.cgi?n=sophiecc&amp;a=hexp&amp;fql=[seq =425970]\">search_CCF</a>]\n",
      "[<a href=\"sophie.cgi?n=sophiecc&amp;a=hexp&amp;fql=[seq =426070]\">search_CCF</a>]\n",
      "[<a href=\"sophie.cgi?n=sophiecc&amp;a=hexp&amp;fql=[seq =426790]\">search_CCF</a>]\n",
      "[<a href=\"sophie.cgi?n=sophiecc&amp;a=hexp&amp;fql=[seq =427000]\">search_CCF</a>]\n",
      "[<a href=\"sophie.cgi?n=sophiecc&amp;a=hexp&amp;fql=[seq =427010]\">search_CCF</a>]\n",
      "[<a href=\"sophie.cgi?n=sophiecc&amp;a=hexp&amp;fql=[seq =427250]\">search_CCF</a>]\n",
      "[<a href=\"sophie.cgi?n=sophiecc&amp;a=hexp&amp;fql=[seq =427490]\">search_CCF</a>]\n",
      "[<a href=\"sophie.cgi?n=sophiecc&amp;a=hexp&amp;fql=[seq =427610]\">search_CCF</a>]\n",
      "[<a href=\"sophie.cgi?n=sophiecc&amp;a=hexp&amp;fql=[seq =427850]\">search_CCF</a>]\n",
      "[<a href=\"sophie.cgi?n=sophiecc&amp;a=hexp&amp;fql=[seq =428570]\">search_CCF</a>]\n",
      "[<a href=\"sophie.cgi?n=sophiecc&amp;a=hexp&amp;fql=[seq =428890]\">search_CCF</a>]\n",
      "[<a href=\"sophie.cgi?n=sophiecc&amp;a=hexp&amp;fql=[seq =429020]\">search_CCF</a>]\n",
      "[<a href=\"sophie.cgi?n=sophiecc&amp;a=hexp&amp;fql=[seq =429030]\">search_CCF</a>]\n",
      "[<a href=\"sophie.cgi?n=sophiecc&amp;a=hexp&amp;fql=[seq =429230]\">search_CCF</a>]\n",
      "[<a href=\"sophie.cgi?n=sophiecc&amp;a=hexp&amp;fql=[seq =429240]\">search_CCF</a>]\n",
      "[<a href=\"sophie.cgi?n=sophiecc&amp;a=hexp&amp;fql=[seq =429360]\">search_CCF</a>]\n",
      "[<a href=\"sophie.cgi?n=sophiecc&amp;a=hexp&amp;fql=[seq =429480]\">search_CCF</a>]\n",
      "[<a href=\"sophie.cgi?n=sophiecc&amp;a=hexp&amp;fql=[seq =429600]\">search_CCF</a>]\n",
      "[<a href=\"sophie.cgi?n=sophiecc&amp;a=hexp&amp;fql=[seq =429730]\">search_CCF</a>]\n",
      "[<a href=\"sophie.cgi?n=sophiecc&amp;a=hexp&amp;fql=[seq =429970]\">search_CCF</a>]\n",
      "[<a href=\"sophie.cgi?n=sophiecc&amp;a=hexp&amp;fql=[seq =430210]\">search_CCF</a>]\n",
      "[<a href=\"sophie.cgi?n=sophiecc&amp;a=hexp&amp;fql=[seq =430520]\">search_CCF</a>]\n",
      "[<a href=\"sophie.cgi?n=sophiecc&amp;a=hexp&amp;fql=[seq =430530]\">search_CCF</a>]\n",
      "[<a href=\"sophie.cgi?n=sophiecc&amp;a=hexp&amp;fql=[seq =430770]\">search_CCF</a>]\n",
      "[<a href=\"sophie.cgi?n=sophiecc&amp;a=hexp&amp;fql=[seq =430890]\">search_CCF</a>]\n",
      "[<a href=\"sophie.cgi?n=sophiecc&amp;a=hexp&amp;fql=[seq =431010]\">search_CCF</a>]\n",
      "[<a href=\"sophie.cgi?n=sophiecc&amp;a=hexp&amp;fql=[seq =431250]\">search_CCF</a>]\n",
      "[<a href=\"sophie.cgi?n=sophiecc&amp;a=hexp&amp;fql=[seq =991080]\">search_CCF</a>]\n",
      "[<a href=\"sophie.cgi?n=sophiecc&amp;a=hexp&amp;fql=[seq =991130]\">search_CCF</a>]\n",
      "[<a href=\"sophie.cgi?n=sophiecc&amp;a=hexp&amp;fql=[seq =991260]\">search_CCF</a>]\n",
      "[<a href=\"sophie.cgi?n=sophiecc&amp;a=hexp&amp;fql=[seq =991460]\">search_CCF</a>]\n",
      "[<a href=\"sophie.cgi?n=sophiecc&amp;a=hexp&amp;fql=[seq =991660]\">search_CCF</a>]\n",
      "[<a href=\"sophie.cgi?n=sophiecc&amp;a=hexp&amp;fql=[seq =991670]\">search_CCF</a>]\n",
      "[<a href=\"sophie.cgi?n=sophiecc&amp;a=hexp&amp;fql=[seq =991870]\">search_CCF</a>]\n",
      "[<a href=\"sophie.cgi?n=sophiecc&amp;a=hexp&amp;fql=[seq =992070]\">search_CCF</a>]\n",
      "[<a href=\"sophie.cgi?n=sophiecc&amp;a=hexp&amp;fql=[seq =992270]\">search_CCF</a>]\n",
      "[<a href=\"sophie.cgi?n=sophiecc&amp;a=hexp&amp;fql=[seq =992550]\">search_CCF</a>]\n",
      "[<a href=\"sophie.cgi?n=sophiecc&amp;a=hexp&amp;fql=[seq =992560]\">search_CCF</a>]\n",
      "[<a href=\"sophie.cgi?n=sophiecc&amp;a=hexp&amp;fql=[seq =992760]\">search_CCF</a>]\n",
      "[<a href=\"sophie.cgi?n=sophiecc&amp;a=hexp&amp;fql=[seq =992960]\">search_CCF</a>]\n",
      "[<a href=\"sophie.cgi?n=sophiecc&amp;a=hexp&amp;fql=[seq =993160]\">search_CCF</a>]\n",
      "[<a href=\"sophie.cgi?n=sophiecc&amp;a=hexp&amp;fql=[seq =993360]\">search_CCF</a>]\n",
      "[<a href=\"sophie.cgi?n=sophiecc&amp;a=hexp&amp;fql=[seq =993560]\">search_CCF</a>]\n",
      "[<a href=\"sophie.cgi?n=sophiecc&amp;a=hexp&amp;fql=[seq =993760]\">search_CCF</a>]\n",
      "[<a href=\"sophie.cgi?n=sophiecc&amp;a=hexp&amp;fql=[seq =994120]\">search_CCF</a>]\n",
      "[<a href=\"sophie.cgi?n=sophiecc&amp;a=hexp&amp;fql=[seq =994130]\">search_CCF</a>]\n",
      "[<a href=\"sophie.cgi?n=sophiecc&amp;a=hexp&amp;fql=[seq =994330]\">search_CCF</a>]\n",
      "[<a href=\"sophie.cgi?n=sophiecc&amp;a=hexp&amp;fql=[seq =994530]\">search_CCF</a>]\n",
      "[<a href=\"sophie.cgi?n=sophiecc&amp;a=hexp&amp;fql=[seq =994730]\">search_CCF</a>]\n",
      "[<a href=\"sophie.cgi?n=sophiecc&amp;a=hexp&amp;fql=[seq =994930]\">search_CCF</a>]\n",
      "[<a href=\"sophie.cgi?n=sophiecc&amp;a=hexp&amp;fql=[seq =995130]\">search_CCF</a>]\n",
      "[<a href=\"sophie.cgi?n=sophiecc&amp;a=hexp&amp;fql=[seq =995330]\">search_CCF</a>]\n",
      "[<a href=\"sophie.cgi?n=sophiecc&amp;a=hexp&amp;fql=[seq =995530]\">search_CCF</a>]\n",
      "[<a href=\"sophie.cgi?n=sophiecc&amp;a=hexp&amp;fql=[seq =995870]\">search_CCF</a>]\n",
      "[<a href=\"sophie.cgi?n=sophiecc&amp;a=hexp&amp;fql=[seq =995880]\">search_CCF</a>]\n",
      "[<a href=\"sophie.cgi?n=sophiecc&amp;a=hexp&amp;fql=[seq =996080]\">search_CCF</a>]\n",
      "[<a href=\"sophie.cgi?n=sophiecc&amp;a=hexp&amp;fql=[seq =996280]\">search_CCF</a>]\n",
      "[<a href=\"sophie.cgi?n=sophiecc&amp;a=hexp&amp;fql=[seq =996480]\">search_CCF</a>]\n",
      "[<a href=\"sophie.cgi?n=sophiecc&amp;a=hexp&amp;fql=[seq =996680]\">search_CCF</a>]\n",
      "[<a href=\"sophie.cgi?n=sophiecc&amp;a=hexp&amp;fql=[seq =996980]\">search_CCF</a>]\n",
      "[<a href=\"sophie.cgi?n=sophiecc&amp;a=hexp&amp;fql=[seq =997120]\">search_CCF</a>]\n",
      "[<a href=\"sophie.cgi?n=sophiecc&amp;a=hexp&amp;fql=[seq =997130]\">search_CCF</a>]\n",
      "[<a href=\"sophie.cgi?n=sophiecc&amp;a=hexp&amp;fql=[seq =997330]\">search_CCF</a>]\n",
      "[<a href=\"sophie.cgi?n=sophiecc&amp;a=hexp&amp;fql=[seq =997530]\">search_CCF</a>]\n",
      "[<a href=\"sophie.cgi?n=sophiecc&amp;a=hexp&amp;fql=[seq =997730]\">search_CCF</a>]\n",
      "[<a href=\"sophie.cgi?n=sophiecc&amp;a=hexp&amp;fql=[seq =997930]\">search_CCF</a>]\n",
      "[<a href=\"sophie.cgi?n=sophiecc&amp;a=hexp&amp;fql=[seq =998230]\">search_CCF</a>]\n",
      "[<a href=\"sophie.cgi?n=sophiecc&amp;a=hexp&amp;fql=[seq =998430]\">search_CCF</a>]\n",
      "[<a href=\"sophie.cgi?n=sophiecc&amp;a=hexp&amp;fql=[seq =998630]\">search_CCF</a>]\n",
      "[<a href=\"sophie.cgi?n=sophiecc&amp;a=hexp&amp;fql=[seq =998770]\">search_CCF</a>]\n",
      "[<a href=\"sophie.cgi?n=sophiecc&amp;a=hexp&amp;fql=[seq =998780]\">search_CCF</a>]\n",
      "[<a href=\"sophie.cgi?n=sophiecc&amp;a=hexp&amp;fql=[seq =998980]\">search_CCF</a>]\n",
      "[<a href=\"sophie.cgi?n=sophiecc&amp;a=hexp&amp;fql=[seq =999180]\">search_CCF</a>]\n",
      "[<a href=\"sophie.cgi?n=sophiecc&amp;a=hexp&amp;fql=[seq =999380]\">search_CCF</a>]\n",
      "[<a href=\"sophie.cgi?n=sophiecc&amp;a=hexp&amp;fql=[seq =999580]\">search_CCF</a>]\n",
      "[<a href=\"sophie.cgi?n=sophiecc&amp;a=hexp&amp;fql=[seq =999780]\">search_CCF</a>]\n",
      "[<a href=\"sophie.cgi?n=sophiecc&amp;a=hexp&amp;fql=[seq =999980]\">search_CCF</a>]\n",
      "[<a href=\"sophie.cgi?n=sophiecc&amp;a=hexp&amp;fql=[seq =1000180]\">search_CCF</a>]\n",
      "[<a href=\"sophie.cgi?n=sophiecc&amp;a=hexp&amp;fql=[seq =1000380]\">search_CCF</a>]\n",
      "[<a href=\"sophie.cgi?n=sophiecc&amp;a=hexp&amp;fql=[seq =1000520]\">search_CCF</a>]\n",
      "[<a href=\"sophie.cgi?n=sophiecc&amp;a=hexp&amp;fql=[seq =1000530]\">search_CCF</a>]\n",
      "[<a href=\"sophie.cgi?n=sophiecc&amp;a=hexp&amp;fql=[seq =1000700]\">search_CCF</a>]\n",
      "[<a href=\"sophie.cgi?n=sophiecc&amp;a=hexp&amp;fql=[seq =1000710]\">search_CCF</a>]\n",
      "[<a href=\"sophie.cgi?n=sophiecc&amp;a=hexp&amp;fql=[seq =1000910]\">search_CCF</a>]\n",
      "[<a href=\"sophie.cgi?n=sophiecc&amp;a=hexp&amp;fql=[seq =1001110]\">search_CCF</a>]\n",
      "[<a href=\"sophie.cgi?n=sophiecc&amp;a=hexp&amp;fql=[seq =1001310]\">search_CCF</a>]\n",
      "[<a href=\"sophie.cgi?n=sophiecc&amp;a=hexp&amp;fql=[seq =1001510]\">search_CCF</a>]\n",
      "[<a href=\"sophie.cgi?n=sophiecc&amp;a=hexp&amp;fql=[seq =1001670]\">search_CCF</a>]\n",
      "[<a href=\"sophie.cgi?n=sophiecc&amp;a=hexp&amp;fql=[seq =1001680]\">search_CCF</a>]\n",
      "[<a href=\"sophie.cgi?n=sophiecc&amp;a=hexp&amp;fql=[seq =1001880]\">search_CCF</a>]\n",
      "[<a href=\"sophie.cgi?n=sophiecc&amp;a=hexp&amp;fql=[seq =1002080]\">search_CCF</a>]\n",
      "[<a href=\"sophie.cgi?n=sophiecc&amp;a=hexp&amp;fql=[seq =1002280]\">search_CCF</a>]\n",
      "[<a href=\"sophie.cgi?n=sophiecc&amp;a=hexp&amp;fql=[seq =1002480]\">search_CCF</a>]\n",
      "[<a href=\"sophie.cgi?n=sophiecc&amp;a=hexp&amp;fql=[seq =1002680]\">search_CCF</a>]\n",
      "[<a href=\"sophie.cgi?n=sophiecc&amp;a=hexp&amp;fql=[seq =1002880]\">search_CCF</a>]\n",
      "[<a href=\"sophie.cgi?n=sophiecc&amp;a=hexp&amp;fql=[seq =1003080]\">search_CCF</a>]\n",
      "[<a href=\"sophie.cgi?n=sophiecc&amp;a=hexp&amp;fql=[seq =1003280]\">search_CCF</a>]\n",
      "[<a href=\"sophie.cgi?n=sophiecc&amp;a=hexp&amp;fql=[seq =1003430]\">search_CCF</a>]\n",
      "[<a href=\"sophie.cgi?n=sophiecc&amp;a=hexp&amp;fql=[seq =1003440]\">search_CCF</a>]\n",
      "[<a href=\"sophie.cgi?n=sophiecc&amp;a=hexp&amp;fql=[seq =1003640]\">search_CCF</a>]\n",
      "[<a href=\"sophie.cgi?n=sophiecc&amp;a=hexp&amp;fql=[seq =1003840]\">search_CCF</a>]\n",
      "[<a href=\"sophie.cgi?n=sophiecc&amp;a=hexp&amp;fql=[seq =1004040]\">search_CCF</a>]\n",
      "[<a href=\"sophie.cgi?n=sophiecc&amp;a=hexp&amp;fql=[seq =1004240]\">search_CCF</a>]\n",
      "[<a href=\"sophie.cgi?n=sophiecc&amp;a=hexp&amp;fql=[seq =1004440]\">search_CCF</a>]\n",
      "[<a href=\"sophie.cgi?n=sophiecc&amp;a=hexp&amp;fql=[seq =1004640]\">search_CCF</a>]\n",
      "[<a href=\"sophie.cgi?n=sophiecc&amp;a=hexp&amp;fql=[seq =1004960]\">search_CCF</a>]\n",
      "[<a href=\"sophie.cgi?n=sophiecc&amp;a=hexp&amp;fql=[seq =1004970]\">search_CCF</a>]\n",
      "[<a href=\"sophie.cgi?n=sophiecc&amp;a=hexp&amp;fql=[seq =1005170]\">search_CCF</a>]\n",
      "[<a href=\"sophie.cgi?n=sophiecc&amp;a=hexp&amp;fql=[seq =1005370]\">search_CCF</a>]\n",
      "[<a href=\"sophie.cgi?n=sophiecc&amp;a=hexp&amp;fql=[seq =1005410]\">search_CCF</a>]\n",
      "[<a href=\"sophie.cgi?n=sophiecc&amp;a=hexp&amp;fql=[seq =1005610]\">search_CCF</a>]\n",
      "[<a href=\"sophie.cgi?n=sophiecc&amp;a=hexp&amp;fql=[seq =1005810]\">search_CCF</a>]\n",
      "[<a href=\"sophie.cgi?n=sophiecc&amp;a=hexp&amp;fql=[seq =1006010]\">search_CCF</a>]\n",
      "[<a href=\"sophie.cgi?n=sophiecc&amp;a=hexp&amp;fql=[seq =1006300]\">search_CCF</a>]\n",
      "[<a href=\"sophie.cgi?n=sophiecc&amp;a=hexp&amp;fql=[seq =1006310]\">search_CCF</a>]\n",
      "[<a href=\"sophie.cgi?n=sophiecc&amp;a=hexp&amp;fql=[seq =1006510]\">search_CCF</a>]\n",
      "[<a href=\"sophie.cgi?n=sophiecc&amp;a=hexp&amp;fql=[seq =1006710]\">search_CCF</a>]\n",
      "[<a href=\"sophie.cgi?n=sophiecc&amp;a=hexp&amp;fql=[seq =1006910]\">search_CCF</a>]\n",
      "[<a href=\"sophie.cgi?n=sophiecc&amp;a=hexp&amp;fql=[seq =1007110]\">search_CCF</a>]\n",
      "[<a href=\"sophie.cgi?n=sophiecc&amp;a=hexp&amp;fql=[seq =1007310]\">search_CCF</a>]\n",
      "[<a href=\"sophie.cgi?n=sophiecc&amp;a=hexp&amp;fql=[seq =1007510]\">search_CCF</a>]\n",
      "[<a href=\"sophie.cgi?n=sophiecc&amp;a=hexp&amp;fql=[seq =1007710]\">search_CCF</a>]\n"
     ]
    }
   ],
   "source": [
    "#print(column())\n",
    "abc = column()\n",
    "\n",
    "resultados = []\n",
    "for i in range(0,len(abc)):\n",
    "    #print(abc[i])\n",
    "    if len(abc[i]) ==0:\n",
    "        abc[i] = None\n",
    "    print(abc[i])\n",
    "        \n",
    "    "
   ]
  },
  {
   "cell_type": "markdown",
   "id": "84b8d044",
   "metadata": {},
   "source": [
    "# Borrar amp; y corregir los espacios"
   ]
  },
  {
   "cell_type": "code",
   "execution_count": null,
   "id": "ff0c1edc",
   "metadata": {},
   "outputs": [],
   "source": [
    "href=\"sophie.cgi?n=sophiecc&a=hexp&fql=[seq =671480]\"\n"
   ]
  },
  {
   "cell_type": "code",
   "execution_count": 202,
   "id": "df68053c",
   "metadata": {},
   "outputs": [
    {
     "data": {
      "text/plain": [
       "{1, 2, 4}"
      ]
     },
     "execution_count": 202,
     "metadata": {},
     "output_type": "execute_result"
    }
   ],
   "source": [
    "set([1,2,4,2,1])"
   ]
  },
  {
   "cell_type": "code",
   "execution_count": null,
   "id": "9e33a6f9",
   "metadata": {},
   "outputs": [],
   "source": []
  }
 ],
 "metadata": {
  "kernelspec": {
   "display_name": "Python 3",
   "language": "python",
   "name": "python3"
  },
  "language_info": {
   "codemirror_mode": {
    "name": "ipython",
    "version": 3
   },
   "file_extension": ".py",
   "mimetype": "text/x-python",
   "name": "python",
   "nbconvert_exporter": "python",
   "pygments_lexer": "ipython3",
   "version": "3.9.2"
  }
 },
 "nbformat": 4,
 "nbformat_minor": 5
}
